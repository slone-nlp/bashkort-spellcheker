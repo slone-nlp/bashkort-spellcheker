{
 "cells": [
  {
   "cell_type": "code",
   "execution_count": 7,
   "id": "f8a4b578",
   "metadata": {},
   "outputs": [],
   "source": [
    "from transformers import CanineTokenizer, CanineForTokenClassification\n",
    "import torch\n",
    "import pandas as pd\n",
    "\n",
    "import textdistance\n",
    "from tqdm.auto import tqdm, trange\n",
    "from collections import Counter"
   ]
  },
  {
   "cell_type": "code",
   "execution_count": 61,
   "id": "84e98081",
   "metadata": {},
   "outputs": [],
   "source": [
    "from diff_utils import get_aligned_diff"
   ]
  },
  {
   "cell_type": "code",
   "execution_count": 2,
   "id": "225ff995",
   "metadata": {},
   "outputs": [],
   "source": [
    "saved_model_name = '../models/canine-c-bak-semisupervised-v1-1' "
   ]
  },
  {
   "cell_type": "code",
   "execution_count": 3,
   "id": "61d2691f",
   "metadata": {},
   "outputs": [
    {
     "name": "stderr",
     "output_type": "stream",
     "text": [
      "Using unk_token, but it is not set yet.\n",
      "Using unk_token, but it is not set yet.\n",
      "Using unk_token, but it is not set yet.\n",
      "Using unk_token, but it is not set yet.\n",
      "Using unk_token, but it is not set yet.\n",
      "Using unk_token, but it is not set yet.\n",
      "Using unk_token, but it is not set yet.\n",
      "Using unk_token, but it is not set yet.\n"
     ]
    }
   ],
   "source": [
    "tokenizer = CanineTokenizer.from_pretrained(saved_model_name)\n",
    "model = CanineForTokenClassification.from_pretrained(saved_model_name)"
   ]
  },
  {
   "cell_type": "code",
   "execution_count": 4,
   "id": "e5a6618e",
   "metadata": {},
   "outputs": [],
   "source": [
    "model.cuda();"
   ]
  },
  {
   "cell_type": "code",
   "execution_count": 49,
   "id": "4baf77a0",
   "metadata": {},
   "outputs": [],
   "source": [
    "LABELS_THIS = [c[5:] for c in model.config.id2label.values() if c.startswith('THIS_')]\n",
    "LABELS_NEXT = [c[5:] for c in model.config.id2label.values() if c.startswith('NEXT_')]\n",
    "\n",
    "def fix_text(text, verbose=False):\n",
    "    bx = tokenizer(text, return_tensors='pt', padding=True)\n",
    "    with torch.inference_mode():\n",
    "        out = model(**bx.to(model.device))\n",
    "        n1, n2 =  len(LABELS_THIS), len(LABELS_NEXT)\n",
    "        ids1 = out.logits[0, :, :n1].view(-1, n1).argmax(-1).tolist()\n",
    "        ids2 = out.logits[0, :, n1:].view(-1, n2).argmax(-1).tolist()\n",
    "    result = []\n",
    "    for c, id1, id2 in zip(' ' + text, ids1, ids2):\n",
    "        l1, l2 = LABELS_THIS[id1], LABELS_NEXT[id2]\n",
    "        if l1 == 'KEEP':\n",
    "            result.append(c)\n",
    "        elif l1 != 'DELETE':\n",
    "            result.append(l1)\n",
    "        if l2 != 'PASS':\n",
    "            result.append(l2)\n",
    "    return ''.join(result)"
   ]
  },
  {
   "cell_type": "markdown",
   "id": "c8207cf3",
   "metadata": {},
   "source": [
    "# Analysis"
   ]
  },
  {
   "cell_type": "code",
   "execution_count": 8,
   "id": "693ae0a7",
   "metadata": {},
   "outputs": [],
   "source": [
    "df_orig = pd.read_csv('../data/spellchecker_dataset_split.tsv', sep='\\t')"
   ]
  },
  {
   "cell_type": "code",
   "execution_count": 9,
   "id": "c6338bda",
   "metadata": {},
   "outputs": [
    {
     "name": "stdout",
     "output_type": "stream",
     "text": [
      "(4611, 9)\n"
     ]
    }
   ],
   "source": [
    "df_orig_dev = df_orig[(df_orig.split=='dev') & (df_orig.edit_max_cldiff <= 3) & (df_orig.edit_max_lendiff <= 1)]\n",
    "print(df_orig_dev.shape)"
   ]
  },
  {
   "cell_type": "code",
   "execution_count": 14,
   "id": "e7e08ba4",
   "metadata": {},
   "outputs": [],
   "source": [
    "pd.options.display.max_colwidth = 200"
   ]
  },
  {
   "cell_type": "code",
   "execution_count": 58,
   "id": "16b0a2e6",
   "metadata": {},
   "outputs": [
    {
     "name": "stderr",
     "output_type": "stream",
     "text": [
      "C:\\Users\\david\\AppData\\Local\\Temp/ipykernel_21872/194236841.py:1: UserWarning: Boolean Series key will be reindexed to match DataFrame index.\n",
      "  df_orig_dev[(df_orig_dev.distance > 2) & (df_orig.trash2.str.len() < 50)][['trash2', 'clean2']].sample(10)\n"
     ]
    },
    {
     "data": {
      "text/html": [
       "<div>\n",
       "<style scoped>\n",
       "    .dataframe tbody tr th:only-of-type {\n",
       "        vertical-align: middle;\n",
       "    }\n",
       "\n",
       "    .dataframe tbody tr th {\n",
       "        vertical-align: top;\n",
       "    }\n",
       "\n",
       "    .dataframe thead th {\n",
       "        text-align: right;\n",
       "    }\n",
       "</style>\n",
       "<table border=\"1\" class=\"dataframe\">\n",
       "  <thead>\n",
       "    <tr style=\"text-align: right;\">\n",
       "      <th></th>\n",
       "      <th>trash2</th>\n",
       "      <th>clean2</th>\n",
       "    </tr>\n",
       "  </thead>\n",
       "  <tbody>\n",
       "    <tr>\n",
       "      <th>2162</th>\n",
       "      <td>Avаnti,*** - тип мығырҙаны Натйаш.</td>\n",
       "      <td>Avаnti, - тип мығырҙаны Натйаш.</td>\n",
       "    </tr>\n",
       "    <tr>\n",
       "      <th>15576</th>\n",
       "      <td>Ая* ныс һәм асыу быулыҡтырҙы уны;</td>\n",
       "      <td>Аяныс һәм асыу быулыҡтырҙы уны.</td>\n",
       "    </tr>\n",
       "    <tr>\n",
       "      <th>224</th>\n",
       "      <td>' - Ниңә, ҡәйнеш, улай тиһең?</td>\n",
       "      <td>Ниңә, ҡәйнеш, улай тиһең?</td>\n",
       "    </tr>\n",
       "    <tr>\n",
       "      <th>9492</th>\n",
       "      <td>У йыл дан д ың йөҙө һөрөмләнде.</td>\n",
       "      <td>Уйылдандың йөҙө һөрөмләнде.</td>\n",
       "    </tr>\n",
       "    <tr>\n",
       "      <th>18520</th>\n",
       "      <td>Иптәш Bjраn, Хәкимовҡа ни булды?</td>\n",
       "      <td>Иптәш врач, Хәкимовҡа ни булды?</td>\n",
       "    </tr>\n",
       "    <tr>\n",
       "      <th>4200</th>\n",
       "      <td>Был бит * ' дөрөҫ түгел.</td>\n",
       "      <td>Был бит дөрөҫ түгел.</td>\n",
       "    </tr>\n",
       "    <tr>\n",
       "      <th>19006</th>\n",
       "      <td>' - Кем ҡыҙы булаһың һуң?</td>\n",
       "      <td>Кем ҡыҙы булаһың һуң?</td>\n",
       "    </tr>\n",
       "    <tr>\n",
       "      <th>7825</th>\n",
       "      <td>Тағы дәресен әҙерләмәгәнме? -ти ул.Тағы?</td>\n",
       "      <td>Тағы дәресен әҙерләмәгәнме? - ти ул. - Тағы?</td>\n",
       "    </tr>\n",
       "    <tr>\n",
       "      <th>6775</th>\n",
       "      <td>** Луидор - француз аҡсаһы.</td>\n",
       "      <td>Луидор - француз аҡсаһы.</td>\n",
       "    </tr>\n",
       "    <tr>\n",
       "      <th>16991</th>\n",
       "      <td>Уларҙың ғәскәренә яҙы-, ламы?</td>\n",
       "      <td>Уларҙың ғәскәренә яҙыламы?</td>\n",
       "    </tr>\n",
       "  </tbody>\n",
       "</table>\n",
       "</div>"
      ],
      "text/plain": [
       "                                         trash2  \\\n",
       "2162         Avаnti,*** - тип мығырҙаны Натйаш.   \n",
       "15576         Ая* ныс һәм асыу быулыҡтырҙы уны;   \n",
       "224               ' - Ниңә, ҡәйнеш, улай тиһең?   \n",
       "9492            У йыл дан д ың йөҙө һөрөмләнде.   \n",
       "18520          Иптәш Bjраn, Хәкимовҡа ни булды?   \n",
       "4200                   Был бит * ' дөрөҫ түгел.   \n",
       "19006                 ' - Кем ҡыҙы булаһың һуң?   \n",
       "7825   Тағы дәресен әҙерләмәгәнме? -ти ул.Тағы?   \n",
       "6775                ** Луидор - француз аҡсаһы.   \n",
       "16991             Уларҙың ғәскәренә яҙы-, ламы?   \n",
       "\n",
       "                                             clean2  \n",
       "2162                Avаnti, - тип мығырҙаны Натйаш.  \n",
       "15576               Аяныс һәм асыу быулыҡтырҙы уны.  \n",
       "224                       Ниңә, ҡәйнеш, улай тиһең?  \n",
       "9492                    Уйылдандың йөҙө һөрөмләнде.  \n",
       "18520               Иптәш врач, Хәкимовҡа ни булды?  \n",
       "4200                           Был бит дөрөҫ түгел.  \n",
       "19006                         Кем ҡыҙы булаһың һуң?  \n",
       "7825   Тағы дәресен әҙерләмәгәнме? - ти ул. - Тағы?  \n",
       "6775                       Луидор - француз аҡсаһы.  \n",
       "16991                    Уларҙың ғәскәренә яҙыламы?  "
      ]
     },
     "execution_count": 58,
     "metadata": {},
     "output_type": "execute_result"
    }
   ],
   "source": [
    "df_orig_dev[(df_orig_dev.distance > 2) & (df_orig.trash2.str.len() < 50)][['trash2', 'clean2']].sample(10)"
   ]
  },
  {
   "cell_type": "code",
   "execution_count": 56,
   "id": "128295d0",
   "metadata": {},
   "outputs": [],
   "source": [
    "dev2 = df_orig_dev.copy()"
   ]
  },
  {
   "cell_type": "code",
   "execution_count": 58,
   "id": "e9fa562f",
   "metadata": {},
   "outputs": [
    {
     "data": {
      "application/vnd.jupyter.widget-view+json": {
       "model_id": "66da6fa310ea4025a581257d441dbb15",
       "version_major": 2,
       "version_minor": 0
      },
      "text/plain": [
       "  0%|          | 0/4611 [00:00<?, ?it/s]"
      ]
     },
     "metadata": {},
     "output_type": "display_data"
    }
   ],
   "source": [
    "model.eval();\n",
    "dev2['fixed'] = [fix_text(text) for text in tqdm(dev2.trash2)]\n",
    "dev2['change_amount'] = dev2.apply(lambda row: textdistance.levenshtein.distance(row.trash2, row.fixed), axis=1)\n",
    "dev2['new_diff'] = dev2.apply(lambda row: textdistance.levenshtein.distance(row.clean2, row.fixed), axis=1)"
   ]
  },
  {
   "cell_type": "code",
   "execution_count": 60,
   "id": "668f4382",
   "metadata": {},
   "outputs": [
    {
     "name": "stdout",
     "output_type": "stream",
     "text": [
      "reduction 0.44337527757216877\n"
     ]
    }
   ],
   "source": [
    "print('reduction', 1 - dev2.new_diff.sum() / dev2.distance.sum())"
   ]
  },
  {
   "cell_type": "markdown",
   "id": "04032b71",
   "metadata": {},
   "source": [
    "Compare along specific error types"
   ]
  },
  {
   "cell_type": "code",
   "execution_count": 68,
   "id": "b2ccb581",
   "metadata": {},
   "outputs": [
    {
     "data": {
      "application/vnd.jupyter.widget-view+json": {
       "model_id": "8b6f6c2e233b45d3ac569259902ce4e6",
       "version_major": 2,
       "version_minor": 0
      },
      "text/plain": [
       "  0%|          | 0/4611 [00:00<?, ?it/s]"
      ]
     },
     "metadata": {},
     "output_type": "display_data"
    }
   ],
   "source": [
    "old_counter = Counter(\n",
    "    e\n",
    "    for edits in [\n",
    "        get_aligned_diff(row.trash2, row.clean2, keep_equiv=False) \n",
    "        for row in tqdm(dev2.itertuples(), total=dev2.shape[0])\n",
    "    ]\n",
    "    for e in edits \n",
    ")"
   ]
  },
  {
   "cell_type": "code",
   "execution_count": 69,
   "id": "c152a643",
   "metadata": {},
   "outputs": [
    {
     "data": {
      "application/vnd.jupyter.widget-view+json": {
       "model_id": "95e1649c9eae408b81a9da53c83fdcde",
       "version_major": 2,
       "version_minor": 0
      },
      "text/plain": [
       "  0%|          | 0/4611 [00:00<?, ?it/s]"
      ]
     },
     "metadata": {},
     "output_type": "display_data"
    }
   ],
   "source": [
    "new_counter = Counter(\n",
    "    e\n",
    "    for edits in [\n",
    "        get_aligned_diff(row.fixed, row.clean2, keep_equiv=False) \n",
    "        for row in tqdm(dev2.itertuples(), total=dev2.shape[0])\n",
    "    ]\n",
    "    for e in edits \n",
    ")"
   ]
  },
  {
   "cell_type": "code",
   "execution_count": 93,
   "id": "f45cb77a",
   "metadata": {},
   "outputs": [],
   "source": [
    "d = pd.DataFrame({\n",
    "    'old': pd.Series({str(k): v for k, v in old_counter.items()}),\n",
    "    'new': pd.Series({str(k): v for k, v in new_counter.items()})\n",
    "}).fillna(0).astype(int)\n",
    "d['reduction'] = d['new'] - d['old']"
   ]
  },
  {
   "cell_type": "markdown",
   "id": "62f330a3",
   "metadata": {},
   "source": [
    "Число каких требуемых правок сократилось больше всего?"
   ]
  },
  {
   "cell_type": "code",
   "execution_count": 94,
   "id": "ee470cad",
   "metadata": {},
   "outputs": [
    {
     "data": {
      "text/html": [
       "<div>\n",
       "<style scoped>\n",
       "    .dataframe tbody tr th:only-of-type {\n",
       "        vertical-align: middle;\n",
       "    }\n",
       "\n",
       "    .dataframe tbody tr th {\n",
       "        vertical-align: top;\n",
       "    }\n",
       "\n",
       "    .dataframe thead th {\n",
       "        text-align: right;\n",
       "    }\n",
       "</style>\n",
       "<table border=\"1\" class=\"dataframe\">\n",
       "  <thead>\n",
       "    <tr style=\"text-align: right;\">\n",
       "      <th></th>\n",
       "      <th>old</th>\n",
       "      <th>new</th>\n",
       "      <th>reduction</th>\n",
       "    </tr>\n",
       "  </thead>\n",
       "  <tbody>\n",
       "    <tr>\n",
       "      <th>('', ' ')</th>\n",
       "      <td>373</td>\n",
       "      <td>98</td>\n",
       "      <td>-275</td>\n",
       "    </tr>\n",
       "    <tr>\n",
       "      <th>('г', 'ғ')</th>\n",
       "      <td>215</td>\n",
       "      <td>34</td>\n",
       "      <td>-181</td>\n",
       "    </tr>\n",
       "    <tr>\n",
       "      <th>('', '-')</th>\n",
       "      <td>414</td>\n",
       "      <td>235</td>\n",
       "      <td>-179</td>\n",
       "    </tr>\n",
       "    <tr>\n",
       "      <th>('К', 'Ҡ')</th>\n",
       "      <td>177</td>\n",
       "      <td>13</td>\n",
       "      <td>-164</td>\n",
       "    </tr>\n",
       "    <tr>\n",
       "      <th>('һ', 'Һ')</th>\n",
       "      <td>190</td>\n",
       "      <td>85</td>\n",
       "      <td>-105</td>\n",
       "    </tr>\n",
       "    <tr>\n",
       "      <th>(' ', '')</th>\n",
       "      <td>236</td>\n",
       "      <td>142</td>\n",
       "      <td>-94</td>\n",
       "    </tr>\n",
       "    <tr>\n",
       "      <th>('', '- ')</th>\n",
       "      <td>237</td>\n",
       "      <td>149</td>\n",
       "      <td>-88</td>\n",
       "    </tr>\n",
       "    <tr>\n",
       "      <th>('*', '')</th>\n",
       "      <td>60</td>\n",
       "      <td>1</td>\n",
       "      <td>-59</td>\n",
       "    </tr>\n",
       "    <tr>\n",
       "      <th>('Ь', 'Һ')</th>\n",
       "      <td>55</td>\n",
       "      <td>0</td>\n",
       "      <td>-55</td>\n",
       "    </tr>\n",
       "    <tr>\n",
       "      <th>('ә', 'э')</th>\n",
       "      <td>72</td>\n",
       "      <td>22</td>\n",
       "      <td>-50</td>\n",
       "    </tr>\n",
       "    <tr>\n",
       "      <th>('ю', 'йү')</th>\n",
       "      <td>43</td>\n",
       "      <td>1</td>\n",
       "      <td>-42</td>\n",
       "    </tr>\n",
       "    <tr>\n",
       "      <th>('ә', 'а')</th>\n",
       "      <td>108</td>\n",
       "      <td>66</td>\n",
       "      <td>-42</td>\n",
       "    </tr>\n",
       "    <tr>\n",
       "      <th>('Һ', 'һ')</th>\n",
       "      <td>51</td>\n",
       "      <td>12</td>\n",
       "      <td>-39</td>\n",
       "    </tr>\n",
       "    <tr>\n",
       "      <th>('.', '')</th>\n",
       "      <td>52</td>\n",
       "      <td>17</td>\n",
       "      <td>-35</td>\n",
       "    </tr>\n",
       "    <tr>\n",
       "      <th>(' .', '')</th>\n",
       "      <td>34</td>\n",
       "      <td>0</td>\n",
       "      <td>-34</td>\n",
       "    </tr>\n",
       "    <tr>\n",
       "      <th>('Э', 'Ә')</th>\n",
       "      <td>34</td>\n",
       "      <td>2</td>\n",
       "      <td>-32</td>\n",
       "    </tr>\n",
       "    <tr>\n",
       "      <th>('ә', 'ө')</th>\n",
       "      <td>79</td>\n",
       "      <td>48</td>\n",
       "      <td>-31</td>\n",
       "    </tr>\n",
       "    <tr>\n",
       "      <th>('ъ', 'ғ')</th>\n",
       "      <td>31</td>\n",
       "      <td>0</td>\n",
       "      <td>-31</td>\n",
       "    </tr>\n",
       "    <tr>\n",
       "      <th>('', ' - ')</th>\n",
       "      <td>31</td>\n",
       "      <td>2</td>\n",
       "      <td>-29</td>\n",
       "    </tr>\n",
       "    <tr>\n",
       "      <th>(\"'\", '')</th>\n",
       "      <td>26</td>\n",
       "      <td>0</td>\n",
       "      <td>-26</td>\n",
       "    </tr>\n",
       "  </tbody>\n",
       "</table>\n",
       "</div>"
      ],
      "text/plain": [
       "             old  new  reduction\n",
       "('', ' ')    373   98       -275\n",
       "('г', 'ғ')   215   34       -181\n",
       "('', '-')    414  235       -179\n",
       "('К', 'Ҡ')   177   13       -164\n",
       "('һ', 'Һ')   190   85       -105\n",
       "(' ', '')    236  142        -94\n",
       "('', '- ')   237  149        -88\n",
       "('*', '')     60    1        -59\n",
       "('Ь', 'Һ')    55    0        -55\n",
       "('ә', 'э')    72   22        -50\n",
       "('ю', 'йү')   43    1        -42\n",
       "('ә', 'а')   108   66        -42\n",
       "('Һ', 'һ')    51   12        -39\n",
       "('.', '')     52   17        -35\n",
       "(' .', '')    34    0        -34\n",
       "('Э', 'Ә')    34    2        -32\n",
       "('ә', 'ө')    79   48        -31\n",
       "('ъ', 'ғ')    31    0        -31\n",
       "('', ' - ')   31    2        -29\n",
       "(\"'\", '')     26    0        -26"
      ]
     },
     "execution_count": 94,
     "metadata": {},
     "output_type": "execute_result"
    }
   ],
   "source": [
    "d.sort_values('reduction', ascending=True).head(20)"
   ]
  },
  {
   "cell_type": "markdown",
   "id": "afa4ad7c",
   "metadata": {},
   "source": [
    "Число каких требуемых правок возросло больше всего?"
   ]
  },
  {
   "cell_type": "code",
   "execution_count": 95,
   "id": "418d5ffe",
   "metadata": {},
   "outputs": [
    {
     "data": {
      "text/html": [
       "<div>\n",
       "<style scoped>\n",
       "    .dataframe tbody tr th:only-of-type {\n",
       "        vertical-align: middle;\n",
       "    }\n",
       "\n",
       "    .dataframe tbody tr th {\n",
       "        vertical-align: top;\n",
       "    }\n",
       "\n",
       "    .dataframe thead th {\n",
       "        text-align: right;\n",
       "    }\n",
       "</style>\n",
       "<table border=\"1\" class=\"dataframe\">\n",
       "  <thead>\n",
       "    <tr style=\"text-align: right;\">\n",
       "      <th></th>\n",
       "      <th>old</th>\n",
       "      <th>new</th>\n",
       "      <th>reduction</th>\n",
       "    </tr>\n",
       "  </thead>\n",
       "  <tbody>\n",
       "    <tr>\n",
       "      <th>(' ', '-')</th>\n",
       "      <td>2</td>\n",
       "      <td>52</td>\n",
       "      <td>50</td>\n",
       "    </tr>\n",
       "    <tr>\n",
       "      <th>('ғ', 'г')</th>\n",
       "      <td>30</td>\n",
       "      <td>65</td>\n",
       "      <td>35</td>\n",
       "    </tr>\n",
       "    <tr>\n",
       "      <th>('- ', '')</th>\n",
       "      <td>2</td>\n",
       "      <td>27</td>\n",
       "      <td>25</td>\n",
       "    </tr>\n",
       "    <tr>\n",
       "      <th>('а', 'ә')</th>\n",
       "      <td>2</td>\n",
       "      <td>19</td>\n",
       "      <td>17</td>\n",
       "    </tr>\n",
       "    <tr>\n",
       "      <th>('ы', 'е')</th>\n",
       "      <td>0</td>\n",
       "      <td>15</td>\n",
       "      <td>15</td>\n",
       "    </tr>\n",
       "    <tr>\n",
       "      <th>('', ',')</th>\n",
       "      <td>10</td>\n",
       "      <td>22</td>\n",
       "      <td>12</td>\n",
       "    </tr>\n",
       "    <tr>\n",
       "      <th>('Ҡ', 'К')</th>\n",
       "      <td>3</td>\n",
       "      <td>14</td>\n",
       "      <td>11</td>\n",
       "    </tr>\n",
       "    <tr>\n",
       "      <th>('Ҡ', 'Һ')</th>\n",
       "      <td>0</td>\n",
       "      <td>10</td>\n",
       "      <td>10</td>\n",
       "    </tr>\n",
       "    <tr>\n",
       "      <th>('т', 'ғ')</th>\n",
       "      <td>2</td>\n",
       "      <td>10</td>\n",
       "      <td>8</td>\n",
       "    </tr>\n",
       "    <tr>\n",
       "      <th>('Һ', 'К')</th>\n",
       "      <td>7</td>\n",
       "      <td>15</td>\n",
       "      <td>8</td>\n",
       "    </tr>\n",
       "    <tr>\n",
       "      <th>('', 'й')</th>\n",
       "      <td>9</td>\n",
       "      <td>15</td>\n",
       "      <td>6</td>\n",
       "    </tr>\n",
       "    <tr>\n",
       "      <th>('н', 'ш')</th>\n",
       "      <td>0</td>\n",
       "      <td>5</td>\n",
       "      <td>5</td>\n",
       "    </tr>\n",
       "    <tr>\n",
       "      <th>('т', 'г')</th>\n",
       "      <td>6</td>\n",
       "      <td>11</td>\n",
       "      <td>5</td>\n",
       "    </tr>\n",
       "    <tr>\n",
       "      <th>('ҡ', 'к')</th>\n",
       "      <td>11</td>\n",
       "      <td>16</td>\n",
       "      <td>5</td>\n",
       "    </tr>\n",
       "    <tr>\n",
       "      <th>('', '.')</th>\n",
       "      <td>12</td>\n",
       "      <td>17</td>\n",
       "      <td>5</td>\n",
       "    </tr>\n",
       "    <tr>\n",
       "      <th>('', 'Й')</th>\n",
       "      <td>0</td>\n",
       "      <td>4</td>\n",
       "      <td>4</td>\n",
       "    </tr>\n",
       "    <tr>\n",
       "      <th>('', ' 1')</th>\n",
       "      <td>0</td>\n",
       "      <td>4</td>\n",
       "      <td>4</td>\n",
       "    </tr>\n",
       "    <tr>\n",
       "      <th>(' -', '')</th>\n",
       "      <td>1</td>\n",
       "      <td>5</td>\n",
       "      <td>4</td>\n",
       "    </tr>\n",
       "    <tr>\n",
       "      <th>('н', 'ң')</th>\n",
       "      <td>37</td>\n",
       "      <td>41</td>\n",
       "      <td>4</td>\n",
       "    </tr>\n",
       "    <tr>\n",
       "      <th>('йү', 'ю')</th>\n",
       "      <td>0</td>\n",
       "      <td>3</td>\n",
       "      <td>3</td>\n",
       "    </tr>\n",
       "  </tbody>\n",
       "</table>\n",
       "</div>"
      ],
      "text/plain": [
       "             old  new  reduction\n",
       "(' ', '-')     2   52         50\n",
       "('ғ', 'г')    30   65         35\n",
       "('- ', '')     2   27         25\n",
       "('а', 'ә')     2   19         17\n",
       "('ы', 'е')     0   15         15\n",
       "('', ',')     10   22         12\n",
       "('Ҡ', 'К')     3   14         11\n",
       "('Ҡ', 'Һ')     0   10         10\n",
       "('т', 'ғ')     2   10          8\n",
       "('Һ', 'К')     7   15          8\n",
       "('', 'й')      9   15          6\n",
       "('н', 'ш')     0    5          5\n",
       "('т', 'г')     6   11          5\n",
       "('ҡ', 'к')    11   16          5\n",
       "('', '.')     12   17          5\n",
       "('', 'Й')      0    4          4\n",
       "('', ' 1')     0    4          4\n",
       "(' -', '')     1    5          4\n",
       "('н', 'ң')    37   41          4\n",
       "('йү', 'ю')    0    3          3"
      ]
     },
     "execution_count": 95,
     "metadata": {},
     "output_type": "execute_result"
    }
   ],
   "source": [
    "d.sort_values('reduction', ascending=False).head(20)"
   ]
  },
  {
   "cell_type": "markdown",
   "id": "55487b36",
   "metadata": {},
   "source": [
    "Суммарно, раньше людям нужно было сделать в среднем 0.94 правки на текст, а теперь - 0.53 правки на текст. "
   ]
  },
  {
   "cell_type": "code",
   "execution_count": 97,
   "id": "2c73261c",
   "metadata": {},
   "outputs": [
    {
     "data": {
      "text/plain": [
       "old          0.945565\n",
       "new          0.538278\n",
       "reduction   -0.407287\n",
       "dtype: float64"
      ]
     },
     "execution_count": 97,
     "metadata": {},
     "output_type": "execute_result"
    }
   ],
   "source": [
    "d.sum() / dev2.shape[0]"
   ]
  },
  {
   "cell_type": "markdown",
   "id": "1f27f281",
   "metadata": {},
   "source": [
    "# Export"
   ]
  },
  {
   "cell_type": "code",
   "execution_count": 100,
   "id": "973f6e55",
   "metadata": {},
   "outputs": [],
   "source": [
    "UPLOAD_NAME = \"slone/canine-c-bashkir-gec-v1\""
   ]
  },
  {
   "cell_type": "code",
   "execution_count": 99,
   "id": "79435115",
   "metadata": {},
   "outputs": [
    {
     "data": {
      "text/plain": [
       "CommitInfo(commit_url='https://huggingface.co/slone/canine-c-bashkir-gec-v1/commit/70ea073b3e95b74f80173fc3bb8c377d67da9c86', commit_message='Upload CanineForTokenClassification', commit_description='', oid='70ea073b3e95b74f80173fc3bb8c377d67da9c86', pr_url=None, pr_revision=None, pr_num=None)"
      ]
     },
     "execution_count": 99,
     "metadata": {},
     "output_type": "execute_result"
    }
   ],
   "source": [
    "model.push_to_hub(UPLOAD_NAME)"
   ]
  },
  {
   "cell_type": "code",
   "execution_count": 101,
   "id": "894d4bb6",
   "metadata": {},
   "outputs": [
    {
     "data": {
      "text/plain": [
       "CommitInfo(commit_url='https://huggingface.co/slone/canine-c-bashkir-gec-v1/commit/d9aa21f9d19cc4f390d3fe8cc09e72fd6356dd4e', commit_message='Upload tokenizer', commit_description='', oid='d9aa21f9d19cc4f390d3fe8cc09e72fd6356dd4e', pr_url=None, pr_revision=None, pr_num=None)"
      ]
     },
     "execution_count": 101,
     "metadata": {},
     "output_type": "execute_result"
    }
   ],
   "source": [
    "tokenizer.push_to_hub(UPLOAD_NAME)"
   ]
  },
  {
   "cell_type": "markdown",
   "id": "111ae63a",
   "metadata": {},
   "source": [
    "# Minimal example"
   ]
  },
  {
   "cell_type": "code",
   "execution_count": 1,
   "id": "29bd657a",
   "metadata": {},
   "outputs": [
    {
     "data": {
      "application/vnd.jupyter.widget-view+json": {
       "model_id": "af7dae9a0f92415197f855b82f88a6a3",
       "version_major": 2,
       "version_minor": 0
      },
      "text/plain": [
       "Downloading:   0%|          | 0.00/816 [00:00<?, ?B/s]"
      ]
     },
     "metadata": {},
     "output_type": "display_data"
    },
    {
     "name": "stderr",
     "output_type": "stream",
     "text": [
      "c:\\users\\david\\appdata\\local\\programs\\python\\python39\\lib\\site-packages\\huggingface_hub\\file_download.py:123: UserWarning: `huggingface_hub` cache-system uses symlinks by default to efficiently store duplicated files but your machine does not support them in C:\\Users\\david\\.cache\\huggingface\\hub. Caching files will still work but in a degraded version that might require more space on your disk. This warning can be disabled by setting the `HF_HUB_DISABLE_SYMLINKS_WARNING` environment variable. For more details, see https://huggingface.co/docs/huggingface_hub/how-to-cache#limitations.\n",
      "To support symlinks on Windows, you either need to activate Developer Mode or to run Python as an administrator. In order to see activate developer mode, see this article: https://docs.microsoft.com/en-us/windows/apps/get-started/enable-your-device-for-development\n",
      "  warnings.warn(message)\n"
     ]
    },
    {
     "data": {
      "application/vnd.jupyter.widget-view+json": {
       "model_id": "3a60ca1c17f94e3f8a2ad6dd2bcd7775",
       "version_major": 2,
       "version_minor": 0
      },
      "text/plain": [
       "Downloading:   0%|          | 0.00/1.32k [00:00<?, ?B/s]"
      ]
     },
     "metadata": {},
     "output_type": "display_data"
    },
    {
     "name": "stderr",
     "output_type": "stream",
     "text": [
      "Using unk_token, but it is not set yet.\n",
      "Using unk_token, but it is not set yet.\n",
      "Using unk_token, but it is not set yet.\n",
      "Using unk_token, but it is not set yet.\n",
      "Using unk_token, but it is not set yet.\n",
      "Using unk_token, but it is not set yet.\n",
      "Using unk_token, but it is not set yet.\n",
      "Using unk_token, but it is not set yet.\n"
     ]
    },
    {
     "data": {
      "application/vnd.jupyter.widget-view+json": {
       "model_id": "a0eb247578b946e9941e7604e78323c8",
       "version_major": 2,
       "version_minor": 0
      },
      "text/plain": [
       "Downloading:   0%|          | 0.00/19.8k [00:00<?, ?B/s]"
      ]
     },
     "metadata": {},
     "output_type": "display_data"
    },
    {
     "data": {
      "application/vnd.jupyter.widget-view+json": {
       "model_id": "6c5bab836a3e49439683ee72f7c8d101",
       "version_major": 2,
       "version_minor": 0
      },
      "text/plain": [
       "Downloading:   0%|          | 0.00/530M [00:00<?, ?B/s]"
      ]
     },
     "metadata": {},
     "output_type": "display_data"
    }
   ],
   "source": [
    "import torch\n",
    "from transformers import CanineTokenizer, CanineForTokenClassification\n",
    "\n",
    "tokenizer = CanineTokenizer.from_pretrained('slone/canine-c-bashkir-gec-v1')\n",
    "model = CanineForTokenClassification.from_pretrained('slone/canine-c-bashkir-gec-v1')\n",
    "if torch.cuda.is_available():\n",
    "    model.cuda()"
   ]
  },
  {
   "cell_type": "code",
   "execution_count": 54,
   "id": "0c690fd6",
   "metadata": {},
   "outputs": [],
   "source": [
    "LABELS_THIS = [c[5:] for c in model.config.id2label.values() if c.startswith('THIS_')]\n",
    "LABELS_NEXT = [c[5:] for c in model.config.id2label.values() if c.startswith('NEXT_')]\n",
    "\n",
    "def fix_text(text, boost=0):\n",
    "    bx = tokenizer(text, return_tensors='pt', padding=True)\n",
    "    with torch.inference_mode():\n",
    "        out = model(**bx.to(model.device))\n",
    "        n1, n2 =  len(LABELS_THIS), len(LABELS_NEXT)\n",
    "        logits1 = out.logits[0, :, :n1].view(-1, n1)\n",
    "        logits2 = out.logits[0, :, n1:].view(-1, n2)\n",
    "        if boost:\n",
    "            logits1[1:, 0] -= boost\n",
    "            logits2[:, 0] -= boost\n",
    "        ids1, ids2 = logits1.argmax(-1).tolist(), logits2.argmax(-1).tolist()\n",
    "    result = []\n",
    "    for c, id1, id2 in zip(' ' + text, ids1, ids2):\n",
    "        l1, l2 = LABELS_THIS[id1], LABELS_NEXT[id2]\n",
    "        if l1 == 'KEEP':\n",
    "            result.append(c)\n",
    "        elif l1 != 'DELETE':\n",
    "            result.append(l1)\n",
    "        if l2 != 'PASS':\n",
    "            result.append(l2)\n",
    "    return ''.join(result)"
   ]
  },
  {
   "cell_type": "code",
   "execution_count": 75,
   "id": "86789896",
   "metadata": {},
   "outputs": [
    {
     "name": "stdout",
     "output_type": "stream",
     "text": [
      "Уйылдандың йөҙө һөрөмләнде.\n"
     ]
    }
   ],
   "source": []
  },
  {
   "cell_type": "code",
   "execution_count": null,
   "id": "b286ca76",
   "metadata": {},
   "outputs": [],
   "source": []
  }
 ],
 "metadata": {
  "kernelspec": {
   "display_name": "Python 3 (ipykernel)",
   "language": "python",
   "name": "python3"
  },
  "language_info": {
   "codemirror_mode": {
    "name": "ipython",
    "version": 3
   },
   "file_extension": ".py",
   "mimetype": "text/x-python",
   "name": "python",
   "nbconvert_exporter": "python",
   "pygments_lexer": "ipython3",
   "version": "3.9.6"
  }
 },
 "nbformat": 4,
 "nbformat_minor": 5
}
