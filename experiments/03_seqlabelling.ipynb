{
 "cells": [
  {
   "cell_type": "markdown",
   "id": "a04cf526",
   "metadata": {},
   "source": [
    "# 1: create an aligned parallel corpus"
   ]
  },
  {
   "cell_type": "markdown",
   "id": "f4bbbb9a",
   "metadata": {},
   "source": [
    "For each source token, take two decisions with a BERT-like model:\n",
    "1. Whether to keep, delete, or replace it with some other token. \n",
    "2. Whether to insert some other token after it."
   ]
  },
  {
   "cell_type": "markdown",
   "id": "ca6fc96a",
   "metadata": {},
   "source": [
    "### Load the parallel text"
   ]
  },
  {
   "cell_type": "code",
   "execution_count": 2,
   "id": "cae90f22",
   "metadata": {},
   "outputs": [],
   "source": [
    "import pandas as pd"
   ]
  },
  {
   "cell_type": "code",
   "execution_count": 3,
   "id": "aaffe14a",
   "metadata": {},
   "outputs": [
    {
     "data": {
      "text/html": [
       "<div>\n",
       "<style scoped>\n",
       "    .dataframe tbody tr th:only-of-type {\n",
       "        vertical-align: middle;\n",
       "    }\n",
       "\n",
       "    .dataframe tbody tr th {\n",
       "        vertical-align: top;\n",
       "    }\n",
       "\n",
       "    .dataframe thead th {\n",
       "        text-align: right;\n",
       "    }\n",
       "</style>\n",
       "<table border=\"1\" class=\"dataframe\">\n",
       "  <thead>\n",
       "    <tr style=\"text-align: right;\">\n",
       "      <th></th>\n",
       "      <th>trash</th>\n",
       "      <th>clean</th>\n",
       "      <th>trash2</th>\n",
       "      <th>clean2</th>\n",
       "      <th>distance</th>\n",
       "      <th>normalized_distance</th>\n",
       "      <th>split</th>\n",
       "      <th>edit_max_cldiff</th>\n",
       "      <th>edit_max_lendiff</th>\n",
       "    </tr>\n",
       "  </thead>\n",
       "  <tbody>\n",
       "    <tr>\n",
       "      <th>0</th>\n",
       "      <td>Шунда ук әсәйемдең тоҡсайын, төйөнсөктәрен күҙ...</td>\n",
       "      <td>Шунда уҡ әсәйемдең тоҡсайын, төйөнсөктәрен күҙ...</td>\n",
       "      <td>Шунда ук әсәйемдең тоҡсайын, төйөнсөктәрен күҙ...</td>\n",
       "      <td>Шунда уҡ әсәйемдең тоҡсайын, төйөнсөктәрен күҙ...</td>\n",
       "      <td>1</td>\n",
       "      <td>0.015385</td>\n",
       "      <td>train</td>\n",
       "      <td>1</td>\n",
       "      <td>0</td>\n",
       "    </tr>\n",
       "    <tr>\n",
       "      <th>1</th>\n",
       "      <td>Унан беҙ өсөбөҙ ҙә ултырғыстарға ултырабыҙ.</td>\n",
       "      <td>Унан беҙ әсәбеҙ ҙә ултырғыстарға ултырабыҙ.</td>\n",
       "      <td>Унан беҙ өсөбөҙ ҙә ултырғыстарға ултырабыҙ.</td>\n",
       "      <td>Унан беҙ әсәбеҙ ҙә ултырғыстарға ултырабыҙ.</td>\n",
       "      <td>3</td>\n",
       "      <td>0.069767</td>\n",
       "      <td>test</td>\n",
       "      <td>1</td>\n",
       "      <td>0</td>\n",
       "    </tr>\n",
       "    <tr>\n",
       "      <th>2</th>\n",
       "      <td>«Иҫән-Һау ғына тороғоҙ инде», - тип бышылдай у...</td>\n",
       "      <td>«Иҫән-һау ғына тороғоҙ инде», - тип бышылдай у...</td>\n",
       "      <td>«Иҫән-Һау ғына тороғоҙ инде», - тип бышылдай у...</td>\n",
       "      <td>«Иҫән-һау ғына тороғоҙ инде», - тип бышылдай у...</td>\n",
       "      <td>1</td>\n",
       "      <td>0.014085</td>\n",
       "      <td>dev</td>\n",
       "      <td>1</td>\n",
       "      <td>0</td>\n",
       "    </tr>\n",
       "    <tr>\n",
       "      <th>3</th>\n",
       "      <td>Минең генә бер кешем дә юҡ, тип шунда уҡ танау...</td>\n",
       "      <td>Минең генә бер кешем дә юҡ, - тип шунда уҡ тан...</td>\n",
       "      <td>Минең генә бер кешем дә юҡ, тип шунда уҡ танау...</td>\n",
       "      <td>Минең генә бер кешем дә юҡ, - тип шунда уҡ тан...</td>\n",
       "      <td>2</td>\n",
       "      <td>0.029412</td>\n",
       "      <td>train</td>\n",
       "      <td>0</td>\n",
       "      <td>0</td>\n",
       "    </tr>\n",
       "    <tr>\n",
       "      <th>4</th>\n",
       "      <td>Ай йөрөгән, ти, йыл йөрөгән, ти, батыр, ете та...</td>\n",
       "      <td>Ай йөрөгән, ти, йыл йөрөгән, ти, батыр, ете та...</td>\n",
       "      <td>Ай йөрөгән, ти, йыл йөрөгән, ти, батыр, ете та...</td>\n",
       "      <td>Ай йөрөгән, ти, йыл йөрөгән, ти, батыр, ете та...</td>\n",
       "      <td>1</td>\n",
       "      <td>0.012500</td>\n",
       "      <td>train</td>\n",
       "      <td>1</td>\n",
       "      <td>0</td>\n",
       "    </tr>\n",
       "    <tr>\n",
       "      <th>...</th>\n",
       "      <td>...</td>\n",
       "      <td>...</td>\n",
       "      <td>...</td>\n",
       "      <td>...</td>\n",
       "      <td>...</td>\n",
       "      <td>...</td>\n",
       "      <td>...</td>\n",
       "      <td>...</td>\n",
       "      <td>...</td>\n",
       "    </tr>\n",
       "    <tr>\n",
       "      <th>23886</th>\n",
       "      <td>Эҫтәрендә бүре үк оломаһа ла, эттәр шыңшый баш...</td>\n",
       "      <td>Эстәрендә бүре үк оломаһа ла, эттәр шыңшый баш...</td>\n",
       "      <td>Эҫтәрендә бүре үк оломаһа ла, эттәр шыңшый баш...</td>\n",
       "      <td>Эстәрендә бүре үк оломаһа ла, эттәр шыңшый баш...</td>\n",
       "      <td>1</td>\n",
       "      <td>0.020000</td>\n",
       "      <td>dev</td>\n",
       "      <td>1</td>\n",
       "      <td>0</td>\n",
       "    </tr>\n",
       "    <tr>\n",
       "      <th>23887</th>\n",
       "      <td>Үткән йәйҙә яман томра көндө Кәҙерғол төбәгенд...</td>\n",
       "      <td>Үткән йәйҙә яман томра көндө Ҡәҙерғол төбәгенд...</td>\n",
       "      <td>Үткән йәйҙә яман томра көндө Кәҙерғол төбәгенд...</td>\n",
       "      <td>Үткән йәйҙә яман томра көндө Ҡәҙерғол төбәгенд...</td>\n",
       "      <td>1</td>\n",
       "      <td>0.009524</td>\n",
       "      <td>train</td>\n",
       "      <td>1</td>\n",
       "      <td>0</td>\n",
       "    </tr>\n",
       "    <tr>\n",
       "      <th>23888</th>\n",
       "      <td>Кайтыр алдынан салбарҙы эҙләй башлаһа, таба ал...</td>\n",
       "      <td>Ҡайтыр алдынан салбарҙы эҙләй башлаһа, таба ал...</td>\n",
       "      <td>Кайтыр алдынан салбарҙы эҙләй башлаһа, таба ал...</td>\n",
       "      <td>Ҡайтыр алдынан салбарҙы эҙләй башлаһа, таба ал...</td>\n",
       "      <td>1</td>\n",
       "      <td>0.020000</td>\n",
       "      <td>train</td>\n",
       "      <td>1</td>\n",
       "      <td>0</td>\n",
       "    </tr>\n",
       "    <tr>\n",
       "      <th>23889</th>\n",
       "      <td>Кыш урталарында бер көн Әбдрәшит ат аҙбарынан ...</td>\n",
       "      <td>Ҡыш урталарында бер көн Әбдрәшит ат аҙбарынан ...</td>\n",
       "      <td>Кыш урталарында бер көн Әбдрәшит ат аҙбарынан ...</td>\n",
       "      <td>Ҡыш урталарында бер көн Әбдрәшит ат аҙбарынан ...</td>\n",
       "      <td>1</td>\n",
       "      <td>0.009174</td>\n",
       "      <td>train</td>\n",
       "      <td>1</td>\n",
       "      <td>0</td>\n",
       "    </tr>\n",
       "    <tr>\n",
       "      <th>23890</th>\n",
       "      <td>Шатлыҡ тигәнебеҙ юғалған салбар ҡупшы ғына ите...</td>\n",
       "      <td>Шатлыҡ тигәнебеҙ юғалған салбар - ҡупшы ғына и...</td>\n",
       "      <td>Шатлыҡ тигәнебеҙ юғалған салбар ҡупшы ғына ите...</td>\n",
       "      <td>Шатлыҡ тигәнебеҙ юғалған салбар - ҡупшы ғына и...</td>\n",
       "      <td>2</td>\n",
       "      <td>0.021053</td>\n",
       "      <td>train</td>\n",
       "      <td>0</td>\n",
       "      <td>0</td>\n",
       "    </tr>\n",
       "  </tbody>\n",
       "</table>\n",
       "<p>23891 rows × 9 columns</p>\n",
       "</div>"
      ],
      "text/plain": [
       "                                                   trash  \\\n",
       "0      Шунда ук әсәйемдең тоҡсайын, төйөнсөктәрен күҙ...   \n",
       "1            Унан беҙ өсөбөҙ ҙә ултырғыстарға ултырабыҙ.   \n",
       "2      «Иҫән-Һау ғына тороғоҙ инде», - тип бышылдай у...   \n",
       "3      Минең генә бер кешем дә юҡ, тип шунда уҡ танау...   \n",
       "4      Ай йөрөгән, ти, йыл йөрөгән, ти, батыр, ете та...   \n",
       "...                                                  ...   \n",
       "23886  Эҫтәрендә бүре үк оломаһа ла, эттәр шыңшый баш...   \n",
       "23887  Үткән йәйҙә яман томра көндө Кәҙерғол төбәгенд...   \n",
       "23888  Кайтыр алдынан салбарҙы эҙләй башлаһа, таба ал...   \n",
       "23889  Кыш урталарында бер көн Әбдрәшит ат аҙбарынан ...   \n",
       "23890  Шатлыҡ тигәнебеҙ юғалған салбар ҡупшы ғына ите...   \n",
       "\n",
       "                                                   clean  \\\n",
       "0      Шунда уҡ әсәйемдең тоҡсайын, төйөнсөктәрен күҙ...   \n",
       "1            Унан беҙ әсәбеҙ ҙә ултырғыстарға ултырабыҙ.   \n",
       "2      «Иҫән-һау ғына тороғоҙ инде», - тип бышылдай у...   \n",
       "3      Минең генә бер кешем дә юҡ, - тип шунда уҡ тан...   \n",
       "4      Ай йөрөгән, ти, йыл йөрөгән, ти, батыр, ете та...   \n",
       "...                                                  ...   \n",
       "23886  Эстәрендә бүре үк оломаһа ла, эттәр шыңшый баш...   \n",
       "23887  Үткән йәйҙә яман томра көндө Ҡәҙерғол төбәгенд...   \n",
       "23888  Ҡайтыр алдынан салбарҙы эҙләй башлаһа, таба ал...   \n",
       "23889  Ҡыш урталарында бер көн Әбдрәшит ат аҙбарынан ...   \n",
       "23890  Шатлыҡ тигәнебеҙ юғалған салбар - ҡупшы ғына и...   \n",
       "\n",
       "                                                  trash2  \\\n",
       "0      Шунда ук әсәйемдең тоҡсайын, төйөнсөктәрен күҙ...   \n",
       "1            Унан беҙ өсөбөҙ ҙә ултырғыстарға ултырабыҙ.   \n",
       "2      «Иҫән-Һау ғына тороғоҙ инде», - тип бышылдай у...   \n",
       "3      Минең генә бер кешем дә юҡ, тип шунда уҡ танау...   \n",
       "4      Ай йөрөгән, ти, йыл йөрөгән, ти, батыр, ете та...   \n",
       "...                                                  ...   \n",
       "23886  Эҫтәрендә бүре үк оломаһа ла, эттәр шыңшый баш...   \n",
       "23887  Үткән йәйҙә яман томра көндө Кәҙерғол төбәгенд...   \n",
       "23888  Кайтыр алдынан салбарҙы эҙләй башлаһа, таба ал...   \n",
       "23889  Кыш урталарында бер көн Әбдрәшит ат аҙбарынан ...   \n",
       "23890  Шатлыҡ тигәнебеҙ юғалған салбар ҡупшы ғына ите...   \n",
       "\n",
       "                                                  clean2  distance  \\\n",
       "0      Шунда уҡ әсәйемдең тоҡсайын, төйөнсөктәрен күҙ...         1   \n",
       "1            Унан беҙ әсәбеҙ ҙә ултырғыстарға ултырабыҙ.         3   \n",
       "2      «Иҫән-һау ғына тороғоҙ инде», - тип бышылдай у...         1   \n",
       "3      Минең генә бер кешем дә юҡ, - тип шунда уҡ тан...         2   \n",
       "4      Ай йөрөгән, ти, йыл йөрөгән, ти, батыр, ете та...         1   \n",
       "...                                                  ...       ...   \n",
       "23886  Эстәрендә бүре үк оломаһа ла, эттәр шыңшый баш...         1   \n",
       "23887  Үткән йәйҙә яман томра көндө Ҡәҙерғол төбәгенд...         1   \n",
       "23888  Ҡайтыр алдынан салбарҙы эҙләй башлаһа, таба ал...         1   \n",
       "23889  Ҡыш урталарында бер көн Әбдрәшит ат аҙбарынан ...         1   \n",
       "23890  Шатлыҡ тигәнебеҙ юғалған салбар - ҡупшы ғына и...         2   \n",
       "\n",
       "       normalized_distance  split  edit_max_cldiff  edit_max_lendiff  \n",
       "0                 0.015385  train                1                 0  \n",
       "1                 0.069767   test                1                 0  \n",
       "2                 0.014085    dev                1                 0  \n",
       "3                 0.029412  train                0                 0  \n",
       "4                 0.012500  train                1                 0  \n",
       "...                    ...    ...              ...               ...  \n",
       "23886             0.020000    dev                1                 0  \n",
       "23887             0.009524  train                1                 0  \n",
       "23888             0.020000  train                1                 0  \n",
       "23889             0.009174  train                1                 0  \n",
       "23890             0.021053  train                0                 0  \n",
       "\n",
       "[23891 rows x 9 columns]"
      ]
     },
     "execution_count": 3,
     "metadata": {},
     "output_type": "execute_result"
    }
   ],
   "source": [
    "df_orig = pd.read_csv('../data/spellchecker_dataset_split.tsv', sep='\\t')\n",
    "df_orig"
   ]
  },
  {
   "cell_type": "code",
   "execution_count": 4,
   "id": "13b03813",
   "metadata": {},
   "outputs": [
    {
     "name": "stdout",
     "output_type": "stream",
     "text": [
      "(14382, 9)\n",
      "(14171, 9)\n",
      "(14085, 9)\n"
     ]
    }
   ],
   "source": [
    "df_orig_train = df_orig[(df_orig.split=='train')]\n",
    "print(df_orig_train.shape)\n",
    "\n",
    "df_orig_train = df_orig_train[df_orig_train.edit_max_cldiff <= 3]\n",
    "print(df_orig_train.shape)\n",
    "df_orig_train = df_orig_train[df_orig_train.edit_max_lendiff <= 1].copy()\n",
    "print(df_orig_train.shape)"
   ]
  },
  {
   "cell_type": "code",
   "execution_count": 5,
   "id": "cc4775c7",
   "metadata": {},
   "outputs": [
    {
     "name": "stdout",
     "output_type": "stream",
     "text": [
      "(4611, 9)\n"
     ]
    }
   ],
   "source": [
    "df_orig_dev = df_orig[(df_orig.split=='dev') & (df_orig.edit_max_cldiff <= 3) & (df_orig.edit_max_lendiff <= 1)]\n",
    "print(df_orig_dev.shape)"
   ]
  },
  {
   "cell_type": "code",
   "execution_count": 436,
   "id": "2e851d62",
   "metadata": {},
   "outputs": [],
   "source": [
    "dev_small = df_orig_dev.sample(100, random_state=1).copy()"
   ]
  },
  {
   "cell_type": "markdown",
   "id": "020d9f4e",
   "metadata": {},
   "source": [
    "## Load the clean texts"
   ]
  },
  {
   "cell_type": "code",
   "execution_count": 104,
   "id": "df01cef9",
   "metadata": {},
   "outputs": [],
   "source": [
    "import os\n",
    "from tqdm.auto import tqdm, trange"
   ]
  },
  {
   "cell_type": "code",
   "execution_count": 105,
   "id": "4113a0aa",
   "metadata": {},
   "outputs": [],
   "source": [
    "clean_texts = []"
   ]
  },
  {
   "cell_type": "code",
   "execution_count": 106,
   "id": "b65642c6",
   "metadata": {},
   "outputs": [],
   "source": [
    "path = '../../bashkir-corpus/public_domain'\n",
    "for fname in os.listdir(path):\n",
    "    if fname.endswith('.txt'):\n",
    "        with open(path + '/' + fname, 'r') as f:\n",
    "            clean_texts.append(f.read())"
   ]
  },
  {
   "cell_type": "code",
   "execution_count": 107,
   "id": "1eb658ed",
   "metadata": {},
   "outputs": [
    {
     "data": {
      "application/vnd.jupyter.widget-view+json": {
       "model_id": "dc63e6067df54c629a3d2ebe27eaa458",
       "version_major": 2,
       "version_minor": 0
      },
      "text/plain": [
       "  0%|          | 0/8 [00:00<?, ?it/s]"
      ]
     },
     "metadata": {},
     "output_type": "display_data"
    },
    {
     "data": {
      "application/vnd.jupyter.widget-view+json": {
       "model_id": "6f43987b13674e9d904cae18bd3752bf",
       "version_major": 2,
       "version_minor": 0
      },
      "text/plain": [
       "  0%|          | 0/735 [00:00<?, ?it/s]"
      ]
     },
     "metadata": {},
     "output_type": "display_data"
    },
    {
     "data": {
      "application/vnd.jupyter.widget-view+json": {
       "model_id": "923da0de28964d9b8ad6381a0b918de2",
       "version_major": 2,
       "version_minor": 0
      },
      "text/plain": [
       "  0%|          | 0/31056 [00:00<?, ?it/s]"
      ]
     },
     "metadata": {},
     "output_type": "display_data"
    },
    {
     "data": {
      "application/vnd.jupyter.widget-view+json": {
       "model_id": "b2c3de7748bd4cf59d576d8b7fe34875",
       "version_major": 2,
       "version_minor": 0
      },
      "text/plain": [
       "  0%|          | 0/1409 [00:00<?, ?it/s]"
      ]
     },
     "metadata": {},
     "output_type": "display_data"
    },
    {
     "data": {
      "application/vnd.jupyter.widget-view+json": {
       "model_id": "5064aeb24bee473e8a624b683986bb69",
       "version_major": 2,
       "version_minor": 0
      },
      "text/plain": [
       "  0%|          | 0/6306 [00:00<?, ?it/s]"
      ]
     },
     "metadata": {},
     "output_type": "display_data"
    },
    {
     "data": {
      "application/vnd.jupyter.widget-view+json": {
       "model_id": "4c9b70cfe46b408d984532fc30037e43",
       "version_major": 2,
       "version_minor": 0
      },
      "text/plain": [
       "  0%|          | 0/1743 [00:00<?, ?it/s]"
      ]
     },
     "metadata": {},
     "output_type": "display_data"
    },
    {
     "data": {
      "application/vnd.jupyter.widget-view+json": {
       "model_id": "3dd048057d65455f846275a1a7ae8ed8",
       "version_major": 2,
       "version_minor": 0
      },
      "text/plain": [
       "  0%|          | 0/1970 [00:00<?, ?it/s]"
      ]
     },
     "metadata": {},
     "output_type": "display_data"
    },
    {
     "data": {
      "application/vnd.jupyter.widget-view+json": {
       "model_id": "205d139ecd1c4039a76c0c6454bd5420",
       "version_major": 2,
       "version_minor": 0
      },
      "text/plain": [
       "  0%|          | 0/1886 [00:00<?, ?it/s]"
      ]
     },
     "metadata": {},
     "output_type": "display_data"
    },
    {
     "data": {
      "application/vnd.jupyter.widget-view+json": {
       "model_id": "cbcdb24485e3489c8f05883315a7f811",
       "version_major": 2,
       "version_minor": 0
      },
      "text/plain": [
       "  0%|          | 0/2002 [00:00<?, ?it/s]"
      ]
     },
     "metadata": {},
     "output_type": "display_data"
    }
   ],
   "source": [
    "path = '../../bashkir-corpus/shuffled_texts'\n",
    "for dirname in tqdm(os.listdir(path)):\n",
    "    path1 = path + '/' + dirname\n",
    "    for fname in tqdm(os.listdir(path1)):\n",
    "        if fname.endswith('.txt'):\n",
    "            with open(path1 + '/' + fname, 'r') as f:\n",
    "                clean_texts.append(f.read())"
   ]
  },
  {
   "cell_type": "code",
   "execution_count": 108,
   "id": "f8f59f8b",
   "metadata": {},
   "outputs": [
    {
     "name": "stdout",
     "output_type": "stream",
     "text": [
      "47112\n"
     ]
    }
   ],
   "source": [
    "print(len(clean_texts))"
   ]
  },
  {
   "cell_type": "code",
   "execution_count": 109,
   "id": "7e7622fe",
   "metadata": {},
   "outputs": [],
   "source": [
    "import razdel"
   ]
  },
  {
   "cell_type": "code",
   "execution_count": 110,
   "id": "903c6155",
   "metadata": {},
   "outputs": [
    {
     "data": {
      "application/vnd.jupyter.widget-view+json": {
       "model_id": "4a866229bc7a4274a91a33f9ad8c0f68",
       "version_major": 2,
       "version_minor": 0
      },
      "text/plain": [
       "  0%|          | 0/47112 [00:00<?, ?it/s]"
      ]
     },
     "metadata": {},
     "output_type": "display_data"
    },
    {
     "name": "stdout",
     "output_type": "stream",
     "text": [
      "1668613\n"
     ]
    }
   ],
   "source": [
    "clean_sents = [sent.text for text in tqdm(clean_texts) for sent in razdel.sentenize(text)]\n",
    "print(len(clean_sents))"
   ]
  },
  {
   "cell_type": "code",
   "execution_count": 164,
   "id": "1ba15683",
   "metadata": {},
   "outputs": [],
   "source": [
    "import random"
   ]
  },
  {
   "cell_type": "code",
   "execution_count": 627,
   "id": "6c5a0199",
   "metadata": {},
   "outputs": [
    {
     "name": "stdout",
     "output_type": "stream",
     "text": [
      "1605495\n"
     ]
    }
   ],
   "source": [
    "cs2 = sorted({s for s in clean_sents if len(s) > 0})\n",
    "random.seed(1)\n",
    "random.shuffle(cs2)\n",
    "print(len(cs2))"
   ]
  },
  {
   "cell_type": "code",
   "execution_count": 628,
   "id": "2e976996",
   "metadata": {},
   "outputs": [
    {
     "data": {
      "application/vnd.jupyter.widget-view+json": {
       "model_id": "23b51fa01a654f1d952b5482d4b4920a",
       "version_major": 2,
       "version_minor": 0
      },
      "text/plain": [
       "  0%|          | 0/1605495 [00:00<?, ?it/s]"
      ]
     },
     "metadata": {},
     "output_type": "display_data"
    }
   ],
   "source": [
    "with open('../data/clean_bk_sents.txt', 'w') as f:\n",
    "    for sent in tqdm(cs2):\n",
    "        print(sent.replace('\\n', ' '), file=f)"
   ]
  },
  {
   "cell_type": "markdown",
   "id": "c58da655",
   "metadata": {},
   "source": [
    "## Create a diff vocabulary"
   ]
  },
  {
   "cell_type": "code",
   "execution_count": 6,
   "id": "583e8bca",
   "metadata": {},
   "outputs": [],
   "source": [
    "import difflib"
   ]
  },
  {
   "cell_type": "code",
   "execution_count": 72,
   "id": "e2e8d918",
   "metadata": {},
   "outputs": [
    {
     "name": "stdout",
     "output_type": "stream",
     "text": [
      "Борсолма, өйөңә бер ни булмаҫ,- тип көлдө иполлино.\n",
      "Борсолма, өйөңә бер ни булмаҫ, - тип көлдө иполлино.\n"
     ]
    }
   ],
   "source": [
    "row = df_orig.sample(1).iloc[0]\n",
    "print(row.trash2)\n",
    "print(row.clean2)"
   ]
  },
  {
   "cell_type": "code",
   "execution_count": 73,
   "id": "c66cc3a4",
   "metadata": {},
   "outputs": [],
   "source": [
    "def get_aligned_diff(text1, text2, verbose=False):\n",
    "    \"\"\" Get a list of (old,new) segments \"\"\"\n",
    "    edits = []\n",
    "    last_edit = ' '  # space, - or +\n",
    "    for item in difflib.ndiff(text1, text2):\n",
    "        diff_type, char = item[0], item[2]\n",
    "        if verbose:\n",
    "            print(item)\n",
    "        if diff_type != ' ':\n",
    "            if last_edit == ' ':\n",
    "                edits.append(['', ''])\n",
    "            if diff_type == '-':\n",
    "                edits[-1][0] = edits[-1][0] + char\n",
    "            elif diff_type == '+':\n",
    "                edits[-1][1] = edits[-1][1] + char\n",
    "        else:\n",
    "            if last_edit != ' ' or len(edits) == 0:\n",
    "                edits.append(['', ''])\n",
    "            edits[-1][0] = edits[-1][0] + char\n",
    "            edits[-1][1] = edits[-1][1] + char\n",
    "        last_edit = diff_type\n",
    "    return [tuple(t) for t in edits]"
   ]
  },
  {
   "cell_type": "code",
   "execution_count": 74,
   "id": "7e10854a",
   "metadata": {},
   "outputs": [
    {
     "data": {
      "text/plain": [
       "[('Борсолма, өйөңә бер ни булмаҫ,', 'Борсолма, өйөңә бер ни булмаҫ,'),\n",
       " ('', ' '),\n",
       " ('- тип көлдө иполлино.', '- тип көлдө иполлино.')]"
      ]
     },
     "execution_count": 74,
     "metadata": {},
     "output_type": "execute_result"
    }
   ],
   "source": [
    "get_aligned(row.trash2, row.clean2, verbose=False)"
   ]
  },
  {
   "cell_type": "code",
   "execution_count": 90,
   "id": "0dd3cfcf",
   "metadata": {},
   "outputs": [],
   "source": [
    "from tqdm.auto import tqdm, trange\n",
    "from collections import Counter"
   ]
  },
  {
   "cell_type": "code",
   "execution_count": 84,
   "id": "07b6e508",
   "metadata": {},
   "outputs": [
    {
     "data": {
      "application/vnd.jupyter.widget-view+json": {
       "model_id": "a797eab9e8cb4792a654d389fd624512",
       "version_major": 2,
       "version_minor": 0
      },
      "text/plain": [
       "  0%|          | 0/14085 [00:00<?, ?it/s]"
      ]
     },
     "metadata": {},
     "output_type": "display_data"
    }
   ],
   "source": [
    "adiffs_train = [\n",
    "    get_aligned_diff(row.trash2, row.clean2) \n",
    "    for i, row in tqdm(df_orig_train.iterrows(), total=df_orig_train.shape[0])\n",
    "]"
   ]
  },
  {
   "cell_type": "code",
   "execution_count": 91,
   "id": "260a6bc2",
   "metadata": {},
   "outputs": [],
   "source": [
    "edits_cnt = Counter((x, y) for obs in adiffs_train for x, y in obs if x!=y)"
   ]
  },
  {
   "cell_type": "code",
   "execution_count": 172,
   "id": "ff13c91d",
   "metadata": {},
   "outputs": [
    {
     "name": "stdout",
     "output_type": "stream",
     "text": [
      "13668 \t total edits\n",
      "4086 \t insertions\n",
      "2484 \t deletions\n",
      "6544 \t same-length subs\n",
      "1198 \t insert more than x2 source\n"
     ]
    }
   ],
   "source": [
    "print(sum(edits_cnt.values()), '\\t total edits')\n",
    "print(sum(c for (x, y), c in edits_cnt.items() if x == ''), '\\t insertions')\n",
    "print(sum(c for (x, y), c in edits_cnt.items() if y == ''), '\\t deletions')\n",
    "print(sum(c for (x, y), c in edits_cnt.items() if len(y) == len(x)), '\\t same-length subs')\n",
    "print(sum(c for (x, y), c in edits_cnt.items() if len(y) > 2 * len(x) + 1), '\\t insert more than x2 source')"
   ]
  },
  {
   "cell_type": "code",
   "execution_count": 173,
   "id": "5cc6913f",
   "metadata": {},
   "outputs": [
    {
     "data": {
      "text/plain": [
       "[(('', ' '), 1411),\n",
       " (('', '-'), 1273),\n",
       " ((' ', ''), 781),\n",
       " (('', '- '), 628),\n",
       " (('г', 'ғ'), 565),\n",
       " (('К', 'Ҡ'), 559),\n",
       " (('һ', 'Һ'), 543),\n",
       " (('', ' -'), 405),\n",
       " (('ә', 'а'), 359),\n",
       " (('е', 'ы'), 355),\n",
       " (('ә', 'э'), 255),\n",
       " (('ә', 'ө'), 233),\n",
       " (('*', ''), 212),\n",
       " (('Ь', 'Һ'), 185),\n",
       " ((',', ''), 184),\n",
       " (('ю', 'йү'), 178),\n",
       " (('.', ''), 170),\n",
       " (('-', ''), 154),\n",
       " (('Һ', 'һ'), 131),\n",
       " (('', ' - '), 126)]"
      ]
     },
     "execution_count": 173,
     "metadata": {},
     "output_type": "execute_result"
    }
   ],
   "source": [
    "edits_cnt.most_common(20)"
   ]
  },
  {
   "cell_type": "markdown",
   "id": "60017226",
   "metadata": {},
   "source": [
    "Special cases of very long insertions are mostly about inserting space and hyphen, so we could just add special character items for this. "
   ]
  },
  {
   "cell_type": "code",
   "execution_count": 178,
   "id": "57fa7c0b",
   "metadata": {},
   "outputs": [
    {
     "name": "stdout",
     "output_type": "stream",
     "text": [
      "('', '- ') 628\n",
      "('', ' -') 405\n",
      "('', ' - ') 126\n",
      "('', '..') 5\n",
      "('', ' 1 .') 4\n",
      "('', ' .') 4\n",
      "('', ', ') 2\n",
      "('', ' 9.') 2\n",
      "('', ' 14.') 2\n",
      "('', ' 4.') 2\n",
      "('', ' 1.') 2\n",
      "('', ' * *') 1\n",
      "('', '- ә') 1\n",
      "('', ' 9') 1\n",
      "('', 'V - ') 1\n"
     ]
    }
   ],
   "source": [
    "for (x, y), v in edits_cnt.most_common(500):\n",
    "    if len(y) > len(x) * 2 + 1:\n",
    "        print((x, y), v)"
   ]
  },
  {
   "cell_type": "code",
   "execution_count": 174,
   "id": "27bd3062",
   "metadata": {},
   "outputs": [
    {
     "data": {
      "text/plain": [
       "223"
      ]
     },
     "execution_count": 174,
     "metadata": {},
     "output_type": "execute_result"
    }
   ],
   "source": [
    "edit_g1_cnt = Counter((x, y) for obs in adiffs_train for x, y in obs if x!=y and len(y) > 1)\n",
    "len(edit_g1_cnt)"
   ]
  },
  {
   "cell_type": "markdown",
   "id": "9e01f4a5",
   "metadata": {},
   "source": [
    "most of non-trivial RHSs are decomposable, so I won't treat them specially"
   ]
  },
  {
   "cell_type": "code",
   "execution_count": 137,
   "id": "0418da14",
   "metadata": {},
   "outputs": [
    {
     "data": {
      "text/plain": [
       "[(('', '- '), 628),\n",
       " (('', ' -'), 405),\n",
       " (('ю', 'йү'), 178),\n",
       " (('', ' - '), 126),\n",
       " (('гә', 'ға'), 70),\n",
       " (('ге', 'ғы'), 28),\n",
       " (('нд', 'ңл'), 24),\n",
       " (('кә', 'ҡа'), 22),\n",
       " (('пгк', 'шҡ'), 17),\n",
       " (('ып', 'ьш'), 14),\n",
       " (('пгг', 'шт'), 12),\n",
       " (('ын', 'ьш'), 10),\n",
       " (('Ю', 'Йү'), 7),\n",
       " (('ьш', 'ын'), 6),\n",
       " (('һ', '- Һ'), 6),\n",
       " (('ьщ', 'ың'), 5),\n",
       " (('', '..'), 5),\n",
       " (('әге', 'ағы'), 5),\n",
       " (('', ' 1 .'), 4),\n",
       " (('', ' .'), 4)]"
      ]
     },
     "execution_count": 137,
     "metadata": {},
     "output_type": "execute_result"
    }
   ],
   "source": [
    "edit_g1_cnt.most_common(20)"
   ]
  },
  {
   "cell_type": "code",
   "execution_count": 124,
   "id": "4e909b42",
   "metadata": {},
   "outputs": [
    {
     "data": {
      "application/vnd.jupyter.widget-view+json": {
       "model_id": "ad5e7cb16af94327b3d8bc205db1b08f",
       "version_major": 2,
       "version_minor": 0
      },
      "text/plain": [
       "  0%|          | 0/14085 [00:00<?, ?it/s]"
      ]
     },
     "metadata": {},
     "output_type": "display_data"
    }
   ],
   "source": [
    "chars_cnt_parallel = Counter(c for sent in tqdm(df_orig_train.clean2) for c in sent)"
   ]
  },
  {
   "cell_type": "code",
   "execution_count": 138,
   "id": "0095c10a",
   "metadata": {},
   "outputs": [
    {
     "data": {
      "text/plain": [
       "[(' ', 195374),\n",
       " ('а', 122416),\n",
       " ('н', 80751),\n",
       " ('ы', 77311),\n",
       " ('ә', 76578),\n",
       " ('е', 75455),\n",
       " ('р', 66993),\n",
       " ('т', 64966),\n",
       " ('л', 64572),\n",
       " ('и', 39619),\n",
       " ('м', 32305),\n",
       " ('ҡ', 32168),\n",
       " ('у', 31421),\n",
       " ('к', 31053),\n",
       " ('й', 28947),\n",
       " ('ҙ', 28346),\n",
       " ('б', 27985),\n",
       " (',', 24804),\n",
       " ('о', 23341),\n",
       " ('с', 22126)]"
      ]
     },
     "execution_count": 138,
     "metadata": {},
     "output_type": "execute_result"
    }
   ],
   "source": [
    "chars_cnt_parallel.most_common(20)"
   ]
  },
  {
   "cell_type": "code",
   "execution_count": 112,
   "id": "9269d167",
   "metadata": {},
   "outputs": [
    {
     "data": {
      "application/vnd.jupyter.widget-view+json": {
       "model_id": "d48fc8cae08c4e6a8ad6e39e5b3bb79e",
       "version_major": 2,
       "version_minor": 0
      },
      "text/plain": [
       "  0%|          | 0/1668613 [00:00<?, ?it/s]"
      ]
     },
     "metadata": {},
     "output_type": "display_data"
    }
   ],
   "source": [
    "chars_cnt = Counter(c for sent in tqdm(clean_sents) for c in sent)"
   ]
  },
  {
   "cell_type": "code",
   "execution_count": 506,
   "id": "8bb156f0",
   "metadata": {},
   "outputs": [],
   "source": [
    "all_chars = list(chars_cnt.keys())"
   ]
  },
  {
   "cell_type": "code",
   "execution_count": 113,
   "id": "ffd28827",
   "metadata": {},
   "outputs": [
    {
     "data": {
      "text/plain": [
       "355"
      ]
     },
     "execution_count": 113,
     "metadata": {},
     "output_type": "execute_result"
    }
   ],
   "source": [
    "len(chars_cnt)"
   ]
  },
  {
   "cell_type": "code",
   "execution_count": 131,
   "id": "6d53d0ca",
   "metadata": {},
   "outputs": [
    {
     "name": "stdout",
     "output_type": "stream",
     "text": [
      "206\n"
     ]
    }
   ],
   "source": [
    "main_chars = ''.join(c for c, n in chars_cnt.most_common() if n >= 100) + ''.join(c for c, n in chars_cnt_parallel.most_common() if n >= 3)\n",
    "main_chars = ''.join(sorted(set(main_chars + main_chars.upper() + main_chars.lower())))\n",
    "print(len(main_chars))"
   ]
  },
  {
   "cell_type": "code",
   "execution_count": 132,
   "id": "4ba6e155",
   "metadata": {},
   "outputs": [
    {
     "data": {
      "text/plain": [
       "'\\t\\n !\"#%&\\'()*+,-./0123456789:;<=>?@ABCDEFGHIJKLMNOPQRSTUVWXYZ[]_abcdefghijklmnopqrstuvwxyz{}\\xa0«¬\\xad»ÀàƏəЁЄЅЋЌАБВГДЕЖЗИЙКЛМНОПРСТУФХЦЧШЩЪЫЬЭЮЯабвгдежзийклмнопрстуфхцчшщъыьэюяёєѕћќѲѳҒғҘҙҠҡҢңҪҫҮүҺһӘәӨө–—’“”•…№∂−\\uf0ab\\uf0bb'"
      ]
     },
     "execution_count": 132,
     "metadata": {},
     "output_type": "execute_result"
    }
   ],
   "source": [
    "main_chars"
   ]
  },
  {
   "cell_type": "code",
   "execution_count": 244,
   "id": "b32d59f0",
   "metadata": {},
   "outputs": [],
   "source": [
    "import typing as tp\n",
    "\n",
    "\n",
    "class BaseParallelizer:\n",
    "    \n",
    "    @property\n",
    "    def labels(self) -> tp.List[str]:\n",
    "        \"\"\" Get the ordered set of labels \"\"\"\n",
    "        pass\n",
    "    \n",
    "    def parallelize(self, text1: str, text2: str) -> tp.Tuple[tp.List[str], tp.List[tp.List[str]]]:\n",
    "        \"\"\" Convert source and target text into list of source tokens and list of lists of target labels \"\"\"\n",
    "        pass\n",
    "    \n",
    "    def preprocess(self, text: str) -> tp.List[str]:\n",
    "        \"\"\" Preprocess and tokenize the source text \"\"\"\n",
    "        pass\n",
    "    \n",
    "    def postprocess(self, text: tp.List[str], labels: tp.List[tp.List[str]]) -> str:\n",
    "        \"\"\" Given a preprocessed text and predicted labels, create the final text\"\"\"\n",
    "        pass\n",
    "    \n",
    "    def check_consistency(self, text1, text2):\n",
    "        tokens1, labels = self.parallelize(text1, text2)\n",
    "        tokens2 = self.preprocess(text1)\n",
    "        assert tokens1 == tokens2\n",
    "        recovered = self.postprocess(tokens1, labels)\n",
    "        assert text2 == recovered"
   ]
  },
  {
   "cell_type": "code",
   "execution_count": 486,
   "id": "2910151b",
   "metadata": {},
   "outputs": [],
   "source": [
    "class LevenshteinParallelizer(BaseParallelizer):\n",
    "    LABEL_KEEP = 'KEEP'\n",
    "    LABEL_DELETE = 'DELETE'\n",
    "    LABEL_PASS = 'PASS'\n",
    "    \n",
    "    SPECIAL_LABELS_THIS = [LABEL_KEEP, LABEL_DELETE]\n",
    "    SPECIAL_LABELS_NEXT = [LABEL_PASS]\n",
    "    \n",
    "    @property\n",
    "    def labels(self) -> tp.List[str]:\n",
    "        \"\"\" Get the ordered set of labels \"\"\"\n",
    "        return self.labels_this + self.labels_next\n",
    "    \n",
    "    def __init__(self, chars, special_insertions):\n",
    "        self.chars = list(chars)\n",
    "        self.special_insertions = special_insertions\n",
    "        \n",
    "        self.labels_this = self.SPECIAL_LABELS_THIS + self.chars + self.special_insertions\n",
    "        self.labels_next = self.SPECIAL_LABELS_NEXT + self.chars + self.special_insertions\n",
    "        \n",
    "        self.id2label_this = {label: i for i, label in enumerate(self.labels_this)}\n",
    "        self.id2label_next = {label: i for i, label in enumerate(self.labels_next)}\n",
    "\n",
    "    def parallelize(self, text1: str, text2: str) -> tp.Tuple[tp.List[str], tp.List[tp.List[str]]]:\n",
    "        xs = [' ']\n",
    "        y1s = [self.LABEL_DELETE] # this token\n",
    "        y2s = [self.LABEL_PASS] # next token to be inserted\n",
    "        for xx, yy in get_aligned_diff(text1, text2):\n",
    "            if xx == yy:  # no edit\n",
    "                for c in xx:\n",
    "                    xs.append(c)\n",
    "                    y1s.append(self.LABEL_KEEP)\n",
    "                    y2s.append(self.LABEL_PASS)\n",
    "            else: # there is some edit\n",
    "                x_len, y_len = len(xx), len(yy)\n",
    "                if yy in self.special_insertions and y_len > x_len:\n",
    "                    if xx: # replace the first character\n",
    "                        xs.extend(list(xx))\n",
    "                        y1s.extend([yy] + [self.LABEL_DELETE] * (x_len-1))\n",
    "                        y2s.extend([self.LABEL_PASS] * x_len)\n",
    "                    else:\n",
    "                        # insert after the previous character\n",
    "                        y2s[-1] = yy\n",
    "                elif y_len <= x_len:  # deletions or simple replacements\n",
    "                    xs.extend(list(xx))\n",
    "                    y1s.extend(list(yy) + [self.LABEL_DELETE] * (x_len-y_len))\n",
    "                    y2s.extend([self.LABEL_PASS] * x_len)\n",
    "                else:  # insertions or insertions + replacements\n",
    "                    xs.extend(list(xx))  # they will all be used anyway\n",
    "                    \n",
    "                    # first, just replace some symbols, without insertions\n",
    "                    n_ins = y_len - x_len\n",
    "                    n_rep = max(x_len - n_ins, 0)\n",
    "                    for i in range(n_rep):\n",
    "                        y1s.append(yy[i])\n",
    "                        y2s.append(self.LABEL_PASS)\n",
    "                    # then, for each x symbol, replace it and also insert something after it\n",
    "                    for i, y in enumerate(yy[n_rep: (2 * x_len + 1)]):\n",
    "                        if i % 2 == 0:  # insert it after the previous symbol\n",
    "                            y2s[-1] = y \n",
    "                        else: # replace the current symbol, if it exists\n",
    "                            y1s.append(y)\n",
    "                            y2s.append(self.LABEL_PASS)\n",
    "        return xs, [y1s, y2s]\n",
    "    \n",
    "    def preprocess(self, text: str) -> tp.List[str]:\n",
    "        \"\"\" Preprocess and tokenize the source text \"\"\"\n",
    "        return [' '] + list(text)\n",
    "    \n",
    "    def postprocess(self, text: tp.List[str], labels: tp.List[tp.List[str]]) -> str:\n",
    "        \"\"\" Given a preprocessed text and predicted labels, create the final text\"\"\"\n",
    "        labels1, labels2 = labels\n",
    "        result = []\n",
    "        for c, l1, l2 in zip(text, labels1, labels2):\n",
    "            if l1 == self.LABEL_KEEP:\n",
    "                result.append(c)\n",
    "            elif l1 != self.LABEL_DELETE:\n",
    "                result.append(l1)\n",
    "            if l2 != self.LABEL_PASS:\n",
    "                result.append(l2)\n",
    "        return ''.join(result)\n",
    "\n",
    "    \n",
    "    def labels_to_ids(self, labels):\n",
    "        \"\"\" Convert raw labels to a matrix of real labels for each target segment \"\"\" \n",
    "        y1s, y2s = labels\n",
    "        labels1 = [self.id2label_this.get(y, 0) for y in y1s]\n",
    "        labels2 = [self.id2label_next.get(y, 0) for y in y2s]\n",
    "        return labels1, labels2"
   ]
  },
  {
   "cell_type": "code",
   "execution_count": 487,
   "id": "d3f6007f",
   "metadata": {},
   "outputs": [],
   "source": [
    "prl = LevenshteinParallelizer(chars=list(main_chars), special_insertions=['- ', ' -', ' - '])"
   ]
  },
  {
   "cell_type": "code",
   "execution_count": 455,
   "id": "1adae04b",
   "metadata": {},
   "outputs": [
    {
     "data": {
      "text/plain": [
       "([' ', 'к', 'р', 'т'],\n",
       " [['DELETE', 'KEEP', 'о', 'KEEP'], ['PASS', 'PASS', 'PASS', 'PASS']])"
      ]
     },
     "execution_count": 455,
     "metadata": {},
     "output_type": "execute_result"
    }
   ],
   "source": [
    "prl.parallelize('крт', 'кот')"
   ]
  },
  {
   "cell_type": "code",
   "execution_count": 335,
   "id": "13f1411d",
   "metadata": {},
   "outputs": [
    {
     "data": {
      "text/plain": [
       "([' ', 'к', 'о', 'т'],\n",
       " [['DELETE', 'KEEP', 'KEEP', 'KEEP'], ['PASS', 'PASS', 'PASS', 'PASS']])"
      ]
     },
     "execution_count": 335,
     "metadata": {},
     "output_type": "execute_result"
    }
   ],
   "source": [
    "prl.parallelize('кот', 'кот')"
   ]
  },
  {
   "cell_type": "code",
   "execution_count": 336,
   "id": "4d1c7356",
   "metadata": {},
   "outputs": [
    {
     "data": {
      "text/plain": [
       "([' ', 'к', 'о', 'о', 'т'],\n",
       " [['DELETE', 'KEEP', 'KEEP', 'DELETE', 'KEEP'],\n",
       "  ['PASS', 'PASS', 'PASS', 'PASS', 'PASS']])"
      ]
     },
     "execution_count": 336,
     "metadata": {},
     "output_type": "execute_result"
    }
   ],
   "source": [
    "prl.parallelize('коот', 'кот')"
   ]
  },
  {
   "cell_type": "code",
   "execution_count": 337,
   "id": "3e50f7db",
   "metadata": {},
   "outputs": [
    {
     "data": {
      "text/plain": [
       "([' ', 'к', 'т'], [['DELETE', 'KEEP', 'KEEP'], ['PASS', 'о', 'PASS']])"
      ]
     },
     "execution_count": 337,
     "metadata": {},
     "output_type": "execute_result"
    }
   ],
   "source": [
    "prl.parallelize('кт', 'кот')"
   ]
  },
  {
   "cell_type": "code",
   "execution_count": 338,
   "id": "cc4cad15",
   "metadata": {},
   "outputs": [
    {
     "data": {
      "text/plain": [
       "([' ', 'к', 'о', 'о', 'т'],\n",
       " [['DELETE', 'KEEP', '2', '4', 'KEEP'], ['PASS', '1', '3', '5', 'PASS']])"
      ]
     },
     "execution_count": 338,
     "metadata": {},
     "output_type": "execute_result"
    }
   ],
   "source": [
    "prl.parallelize('коот', 'к123456т')"
   ]
  },
  {
   "cell_type": "code",
   "execution_count": 339,
   "id": "8100411f",
   "metadata": {},
   "outputs": [
    {
     "data": {
      "text/plain": [
       "([' ', 'к', 'о', 'т', ' ', 'к', 'о', 'т'],\n",
       " [['DELETE', 'KEEP', 'KEEP', 'KEEP', 'KEEP', 'KEEP', 'KEEP', 'KEEP'],\n",
       "  ['PASS', 'PASS', 'PASS', 'PASS', '- ', 'PASS', 'PASS', 'PASS']])"
      ]
     },
     "execution_count": 339,
     "metadata": {},
     "output_type": "execute_result"
    }
   ],
   "source": [
    "prl.parallelize('кот кот', 'кот - кот')"
   ]
  },
  {
   "cell_type": "markdown",
   "id": "9f4bd488",
   "metadata": {},
   "source": [
    "# 2: Make a neural network"
   ]
  },
  {
   "cell_type": "code",
   "execution_count": 245,
   "id": "96176bee",
   "metadata": {},
   "outputs": [],
   "source": [
    "from transformers import CanineTokenizer, CanineForTokenClassification"
   ]
  },
  {
   "cell_type": "code",
   "execution_count": 246,
   "id": "0b97eb66",
   "metadata": {},
   "outputs": [],
   "source": [
    "base_model_name = 'google/canine-c'"
   ]
  },
  {
   "cell_type": "code",
   "execution_count": 247,
   "id": "27fe4b1d",
   "metadata": {},
   "outputs": [
    {
     "name": "stderr",
     "output_type": "stream",
     "text": [
      "Using unk_token, but it is not set yet.\n",
      "Using unk_token, but it is not set yet.\n",
      "Using unk_token, but it is not set yet.\n",
      "Using unk_token, but it is not set yet.\n",
      "Using unk_token, but it is not set yet.\n",
      "Using unk_token, but it is not set yet.\n",
      "Using unk_token, but it is not set yet.\n",
      "Using unk_token, but it is not set yet.\n"
     ]
    }
   ],
   "source": [
    "tokenizer = CanineTokenizer.from_pretrained(base_model_name)"
   ]
  },
  {
   "cell_type": "code",
   "execution_count": 248,
   "id": "ec84ea37",
   "metadata": {},
   "outputs": [
    {
     "data": {
      "text/plain": [
       "{'bos_token': '\\ue000',\n",
       " 'eos_token': '\\ue001',\n",
       " 'sep_token': '\\ue001',\n",
       " 'pad_token': '\\x00',\n",
       " 'cls_token': '\\ue000',\n",
       " 'mask_token': '\\ue003'}"
      ]
     },
     "execution_count": 248,
     "metadata": {},
     "output_type": "execute_result"
    }
   ],
   "source": [
    "tokenizer.special_tokens_map"
   ]
  },
  {
   "cell_type": "code",
   "execution_count": 249,
   "id": "8c09980c",
   "metadata": {},
   "outputs": [],
   "source": [
    "row = df_orig_train.sample(1).iloc[0]"
   ]
  },
  {
   "cell_type": "markdown",
   "id": "2022e87b",
   "metadata": {},
   "source": [
    "Check that tokenization indeed preserves the lengths in characters. "
   ]
  },
  {
   "cell_type": "code",
   "execution_count": 342,
   "id": "4e880501",
   "metadata": {},
   "outputs": [
    {
     "data": {
      "application/vnd.jupyter.widget-view+json": {
       "model_id": "6e4ab4d3e9114d9ea129abdc1903dc0e",
       "version_major": 2,
       "version_minor": 0
      },
      "text/plain": [
       "  0%|          | 0/14085 [00:00<?, ?it/s]"
      ]
     },
     "metadata": {},
     "output_type": "display_data"
    }
   ],
   "source": [
    "for i, row in tqdm(df_orig_train.iterrows(), total=df_orig_train.shape[0]):\n",
    "    src_chars, raw_labels = prl.parallelize(row.trash2, row.clean2)\n",
    "    bx = tokenizer(row.trash2, return_tensors='pt', padding=True)\n",
    "    assert len(src_chars) + 1 == bx.attention_mask.sum()"
   ]
  },
  {
   "cell_type": "code",
   "execution_count": 380,
   "id": "c734321a",
   "metadata": {},
   "outputs": [
    {
     "name": "stderr",
     "output_type": "stream",
     "text": [
      "Some weights of CanineForTokenClassification were not initialized from the model checkpoint at google/canine-c and are newly initialized: ['classifier.bias', 'classifier.weight']\n",
      "You should probably TRAIN this model on a down-stream task to be able to use it for predictions and inference.\n"
     ]
    }
   ],
   "source": [
    "model = CanineForTokenClassification.from_pretrained(base_model_name, num_labels=len(prl.labels))"
   ]
  },
  {
   "cell_type": "code",
   "execution_count": 382,
   "id": "a4fc5af1",
   "metadata": {},
   "outputs": [],
   "source": [
    "model.cuda();"
   ]
  },
  {
   "cell_type": "code",
   "execution_count": 384,
   "id": "a77a8e79",
   "metadata": {},
   "outputs": [],
   "source": [
    "from transformers.optimization import Adafactor\n",
    "optimizer = Adafactor(\n",
    "    [p for p in model.parameters() if p.requires_grad], \n",
    "    scale_parameter=False, relative_step=False, \n",
    "    lr=1e-4,\n",
    "    clip_threshold=1.0\n",
    ")"
   ]
  },
  {
   "cell_type": "code",
   "execution_count": 385,
   "id": "ba69bc10",
   "metadata": {},
   "outputs": [],
   "source": [
    "import torch"
   ]
  },
  {
   "cell_type": "code",
   "execution_count": 426,
   "id": "4688543a",
   "metadata": {},
   "outputs": [],
   "source": [
    "import gc\n",
    "\n",
    "def cleanup():\n",
    "    gc.collect()\n",
    "    torch.cuda.empty_cache()"
   ]
  },
  {
   "cell_type": "code",
   "execution_count": 397,
   "id": "7829a92d",
   "metadata": {},
   "outputs": [],
   "source": [
    "loss_fn = torch.nn.CrossEntropyLoss()"
   ]
  },
  {
   "cell_type": "code",
   "execution_count": 422,
   "id": "2ba9ae88",
   "metadata": {},
   "outputs": [],
   "source": [
    "batch_size = 4"
   ]
  },
  {
   "cell_type": "code",
   "execution_count": 418,
   "id": "153ff403",
   "metadata": {},
   "outputs": [],
   "source": [
    "model.train();"
   ]
  },
  {
   "cell_type": "code",
   "execution_count": 420,
   "id": "dfb85323",
   "metadata": {},
   "outputs": [],
   "source": [
    "losses = []"
   ]
  },
  {
   "cell_type": "code",
   "execution_count": 433,
   "id": "0ea6e4e6",
   "metadata": {},
   "outputs": [
    {
     "data": {
      "application/vnd.jupyter.widget-view+json": {
       "model_id": "2a57969856054372b532a1ca3de50830",
       "version_major": 2,
       "version_minor": 0
      },
      "text/plain": [
       "  0%|          | 0/1000 [00:00<?, ?it/s]"
      ]
     },
     "metadata": {},
     "output_type": "display_data"
    }
   ],
   "source": [
    "for _ in trange(1000):\n",
    "    batch = df_orig_train.sample(batch_size)\n",
    "    bx = tokenizer(batch.trash2.tolist(), return_tensors='pt', padding=True)\n",
    "    \n",
    "    labels1 = bx.input_ids * 0 - 100\n",
    "    labels2 = bx.input_ids * 0 - 100\n",
    "\n",
    "    for i, row in enumerate(batch.itertuples()):\n",
    "        src_chars, raw_labels = prl.parallelize(row.trash2, row.clean2)\n",
    "        id_labels1, id_labels2 = prl.labels_to_ids(raw_labels)\n",
    "        labels1[i, :len(id_labels1)] = torch.tensor(id_labels1)\n",
    "        labels2[i, :len(id_labels2)] = torch.tensor(id_labels2)\n",
    "    \n",
    "    n1, n2 =  len(prl.labels_this), len(prl.labels_next)\n",
    "    \n",
    "    out = model(**bx.to(model.device))\n",
    "    \n",
    "    loss1 = loss_fn(out.logits[:, :, :n1].view(-1, n1), labels1.to(model.device).view(-1))\n",
    "    loss2 = loss_fn(out.logits[:, :, n1:].view(-1, n2), labels2.to(model.device).view(-1))\n",
    "    loss = loss1 + loss2\n",
    "    loss.backward()\n",
    "    losses.append(loss.item())\n",
    "    \n",
    "    optimizer.step()\n",
    "    optimizer.zero_grad()"
   ]
  },
  {
   "cell_type": "code",
   "execution_count": 444,
   "id": "44421cdf",
   "metadata": {},
   "outputs": [],
   "source": [
    "optimizer.zero_grad(set_to_none=True)\n",
    "out, loss, loss1, loss2 = None, None, None, None\n",
    "cleanup()"
   ]
  },
  {
   "cell_type": "code",
   "execution_count": 435,
   "id": "11460199",
   "metadata": {},
   "outputs": [],
   "source": [
    "model.eval();"
   ]
  },
  {
   "cell_type": "code",
   "execution_count": 439,
   "id": "3d3012e2",
   "metadata": {},
   "outputs": [
    {
     "name": "stdout",
     "output_type": "stream",
     "text": [
      "Делагоа ҡултыъында.\n",
      "Делагоа ҡултығында.\n"
     ]
    }
   ],
   "source": [
    "src = dev_small.iloc[0].trash2\n",
    "tgt = dev_small.iloc[0].clean2\n",
    "print(src)\n",
    "print(tgt)"
   ]
  },
  {
   "cell_type": "code",
   "execution_count": 463,
   "id": "2bfa9eee",
   "metadata": {},
   "outputs": [],
   "source": [
    "def fix_text(text, verbose=False):\n",
    "    bx = tokenizer(text, return_tensors='pt', padding=True)\n",
    "    out = model(**bx.to(model.device))\n",
    "    n1, n2 =  len(prl.labels_this), len(prl.labels_next)\n",
    "    l1 = out.logits[0, :, :n1].view(-1, n1).argmax(-1).tolist()\n",
    "    l2 = out.logits[0, :, n1:].view(-1, n2).argmax(-1).tolist()\n",
    "    if verbose: print(l1, l2)\n",
    "    l1, l2 = [prl.labels_this[i] for i in l1],  [prl.labels_next[i] for i in l2]\n",
    "    if verbose: print(l1, l2)\n",
    "    return prl.postprocess(prl.preprocess(text), [l1, l2])"
   ]
  },
  {
   "cell_type": "code",
   "execution_count": 956,
   "id": "e223a171",
   "metadata": {},
   "outputs": [
    {
     "data": {
      "text/plain": [
       "'Делагоа ҡултығында.'"
      ]
     },
     "execution_count": 956,
     "metadata": {},
     "output_type": "execute_result"
    }
   ],
   "source": [
    "fix_text(src)"
   ]
  },
  {
   "cell_type": "code",
   "execution_count": 465,
   "id": "f46d7f42",
   "metadata": {},
   "outputs": [
    {
     "data": {
      "application/vnd.jupyter.widget-view+json": {
       "model_id": "2774b0ba24204a2f9339caf4e4a63cc1",
       "version_major": 2,
       "version_minor": 0
      },
      "text/plain": [
       "  0%|          | 0/100 [00:00<?, ?it/s]"
      ]
     },
     "metadata": {},
     "output_type": "display_data"
    }
   ],
   "source": [
    "dev_small['fixed'] = [fix_text(text) for text in tqdm(dev_small.trash2)]"
   ]
  },
  {
   "cell_type": "code",
   "execution_count": 467,
   "id": "f1afab2b",
   "metadata": {},
   "outputs": [],
   "source": [
    "import textdistance"
   ]
  },
  {
   "cell_type": "code",
   "execution_count": 468,
   "id": "a35a263e",
   "metadata": {},
   "outputs": [],
   "source": [
    "dev_small['change_amount'] = dev_small.apply(lambda row: textdistance.levenshtein.distance(row.trash2, row.fixed), axis=1)\n",
    "dev_small['new_diff'] = dev_small.apply(lambda row: textdistance.levenshtein.distance(row.clean2, row.fixed), axis=1)"
   ]
  },
  {
   "cell_type": "code",
   "execution_count": 469,
   "id": "486586fe",
   "metadata": {},
   "outputs": [
    {
     "data": {
      "text/plain": [
       "distance               1.2900\n",
       "normalized_distance    0.0175\n",
       "edit_max_cldiff        0.4600\n",
       "edit_max_lendiff       0.0300\n",
       "change_amount          0.5900\n",
       "new_diff               0.8900\n",
       "dtype: float64"
      ]
     },
     "execution_count": 469,
     "metadata": {},
     "output_type": "execute_result"
    }
   ],
   "source": [
    "dev_small.mean()"
   ]
  },
  {
   "cell_type": "code",
   "execution_count": 472,
   "id": "2ed6b3cb",
   "metadata": {},
   "outputs": [
    {
     "data": {
      "text/plain": [
       "0.31007751937984496"
      ]
     },
     "execution_count": 472,
     "metadata": {},
     "output_type": "execute_result"
    }
   ],
   "source": [
    "1 - dev_small.new_diff.sum() / dev_small.distance.sum()"
   ]
  },
  {
   "cell_type": "markdown",
   "id": "5d7bac57",
   "metadata": {},
   "source": [
    "# 3. Train it with synthetic data"
   ]
  },
  {
   "cell_type": "code",
   "execution_count": 566,
   "id": "3595e165",
   "metadata": {},
   "outputs": [],
   "source": [
    "import random\n",
    "import numpy as np\n",
    "from importlib import reload\n",
    "import noisers\n",
    "reload(noisers)\n",
    "from noisers import Noiser"
   ]
  },
  {
   "cell_type": "code",
   "execution_count": 550,
   "id": "bca14128",
   "metadata": {},
   "outputs": [],
   "source": [
    "def add_simple_noise(text, chars, edit_rate=0.05, p_del=0.2, p_add=0.2, p_cap=0.2):\n",
    "    result = []\n",
    "    for c in text:\n",
    "        if random.random() < edit_rate:\n",
    "            r = random.random()\n",
    "            if r < p_del:\n",
    "                continue\n",
    "            elif r < p_del + p_add:\n",
    "                result.append(random.choice(chars))\n",
    "                result.append(c)\n",
    "            elif r < p_del + p_add + p_cap:\n",
    "                if c.islower():\n",
    "                    result.append(c.upper())\n",
    "                else:\n",
    "                    result.append(c.lower())\n",
    "            else:\n",
    "                result.append(random.choice(chars))\n",
    "        else:\n",
    "            result.append(c)\n",
    "    return ''.join(result)"
   ]
  },
  {
   "cell_type": "code",
   "execution_count": 551,
   "id": "3422a77a",
   "metadata": {},
   "outputs": [
    {
     "data": {
      "text/plain": [
       "'Каждй óхотник желает знать, где сидит фаан.'"
      ]
     },
     "execution_count": 551,
     "metadata": {},
     "output_type": "execute_result"
    }
   ],
   "source": [
    "add_simple_noise('Каждый охотник желает знать, где сидит фазан.', all_chars)"
   ]
  },
  {
   "cell_type": "code",
   "execution_count": 474,
   "id": "586a7b20",
   "metadata": {},
   "outputs": [],
   "source": [
    "noiser = Noiser.load('noise_model_v1.json')"
   ]
  },
  {
   "cell_type": "code",
   "execution_count": 475,
   "id": "2c9b207b",
   "metadata": {},
   "outputs": [],
   "source": [
    "losses = []"
   ]
  },
  {
   "cell_type": "code",
   "execution_count": 946,
   "id": "06e8c9ef",
   "metadata": {},
   "outputs": [],
   "source": [
    "batch_size = 4\n",
    "report_steps = 1000\n",
    "\n",
    "share_real = 0.1\n",
    "share_noiser = 0.4\n",
    "p_keep = 0.2"
   ]
  },
  {
   "cell_type": "code",
   "execution_count": 947,
   "id": "14497490",
   "metadata": {},
   "outputs": [],
   "source": [
    "yy = random.sample(cs2, batch_size)\n",
    "xx1 = [noiser.add_noise(text, edit_rate=0.05) if random.random() > p_keep else text for text in yy]\n",
    "xx2 = [add_simple_noise(text, all_chars, edit_rate=0.05) if random.random() > p_keep else text for text in yy]"
   ]
  },
  {
   "cell_type": "code",
   "execution_count": 948,
   "id": "b9997129",
   "metadata": {},
   "outputs": [
    {
     "name": "stdout",
     "output_type": "stream",
     "text": [
      "“Хаҡы күпме?” тиһегеҙме?\n",
      "“Хаҡы күпме?” тиҺегеҙме?\n",
      "False\n",
      "“Хаҡы күпме?Ö тиһегеҙме?\n",
      "False\n"
     ]
    }
   ],
   "source": [
    "print(yy[0])\n",
    "print(xx1[0])\n",
    "print(yy[0]==xx1[0])\n",
    "print(xx2[0])\n",
    "print(yy[0]==xx2[0])"
   ]
  },
  {
   "cell_type": "code",
   "execution_count": 949,
   "id": "164a41d9",
   "metadata": {},
   "outputs": [
    {
     "data": {
      "text/plain": [
       "[('“Хаҡы күпме?” ти', '“Хаҡы күпме?” ти'), ('һ', 'Һ'), ('егеҙме?', 'егеҙме?')]"
      ]
     },
     "execution_count": 949,
     "metadata": {},
     "output_type": "execute_result"
    }
   ],
   "source": [
    "get_aligned_diff(yy[0], xx1[0])"
   ]
  },
  {
   "cell_type": "code",
   "execution_count": 950,
   "id": "0f5e5fb1",
   "metadata": {},
   "outputs": [
    {
     "data": {
      "text/plain": [
       "'Делагоаҡултыъында.'"
      ]
     },
     "execution_count": 950,
     "metadata": {},
     "output_type": "execute_result"
    }
   ],
   "source": [
    "noiser.add_noise(text, edit_rate=0.05)"
   ]
  },
  {
   "cell_type": "code",
   "execution_count": 951,
   "id": "5fafabcb",
   "metadata": {},
   "outputs": [],
   "source": [
    "optimizer.param_groups[0]['lr'] = 1e-4\n",
    "optimizer.param_groups[0]['lr'] = 3e-5 # after about 30000 steps\n",
    "#optimizer.param_groups[0]['lr'] = 1e-5 # after 165784 steps [UNDONE IT]\n",
    "# after 168897 steps, replace x and y in artificial noise methods\n",
    "optimizer.param_groups[0]['lr'] = 1e-5  # after 255966 steps"
   ]
  },
  {
   "cell_type": "code",
   "execution_count": 952,
   "id": "91a71c50",
   "metadata": {},
   "outputs": [
    {
     "data": {
      "application/vnd.jupyter.widget-view+json": {
       "model_id": "572d201412b3451cbcdb9b3a173beefe",
       "version_major": 2,
       "version_minor": 0
      },
      "text/plain": [
       "  0%|          | 0/1000000 [00:00<?, ?it/s]"
      ]
     },
     "metadata": {},
     "output_type": "display_data"
    },
    {
     "name": "stdout",
     "output_type": "stream",
     "text": [
      "step 0 loss 0.06690937069198116\n"
     ]
    },
    {
     "ename": "KeyboardInterrupt",
     "evalue": "",
     "output_type": "error",
     "traceback": [
      "\u001b[1;31m---------------------------------------------------------------------------\u001b[0m",
      "\u001b[1;31mKeyboardInterrupt\u001b[0m                         Traceback (most recent call last)",
      "\u001b[1;32m~\\AppData\\Local\\Temp/ipykernel_28308/1284438615.py\u001b[0m in \u001b[0;36m<module>\u001b[1;34m\u001b[0m\n\u001b[0;32m     34\u001b[0m         \u001b[0mlosses\u001b[0m\u001b[1;33m.\u001b[0m\u001b[0mappend\u001b[0m\u001b[1;33m(\u001b[0m\u001b[0mloss\u001b[0m\u001b[1;33m.\u001b[0m\u001b[0mitem\u001b[0m\u001b[1;33m(\u001b[0m\u001b[1;33m)\u001b[0m\u001b[1;33m)\u001b[0m\u001b[1;33m\u001b[0m\u001b[1;33m\u001b[0m\u001b[0m\n\u001b[0;32m     35\u001b[0m \u001b[1;33m\u001b[0m\u001b[0m\n\u001b[1;32m---> 36\u001b[1;33m         \u001b[0moptimizer\u001b[0m\u001b[1;33m.\u001b[0m\u001b[0mstep\u001b[0m\u001b[1;33m(\u001b[0m\u001b[1;33m)\u001b[0m\u001b[1;33m\u001b[0m\u001b[1;33m\u001b[0m\u001b[0m\n\u001b[0m\u001b[0;32m     37\u001b[0m         \u001b[0moptimizer\u001b[0m\u001b[1;33m.\u001b[0m\u001b[0mzero_grad\u001b[0m\u001b[1;33m(\u001b[0m\u001b[1;33m)\u001b[0m\u001b[1;33m\u001b[0m\u001b[1;33m\u001b[0m\u001b[0m\n\u001b[0;32m     38\u001b[0m     \u001b[1;32mexcept\u001b[0m \u001b[0mRuntimeError\u001b[0m \u001b[1;32mas\u001b[0m \u001b[0me\u001b[0m\u001b[1;33m:\u001b[0m\u001b[1;33m\u001b[0m\u001b[1;33m\u001b[0m\u001b[0m\n",
      "\u001b[1;32mc:\\users\\david\\appdata\\local\\programs\\python\\python39\\lib\\site-packages\\torch\\optim\\optimizer.py\u001b[0m in \u001b[0;36mwrapper\u001b[1;34m(*args, **kwargs)\u001b[0m\n\u001b[0;32m    138\u001b[0m                 \u001b[0mprofile_name\u001b[0m \u001b[1;33m=\u001b[0m \u001b[1;34m\"Optimizer.step#{}.step\"\u001b[0m\u001b[1;33m.\u001b[0m\u001b[0mformat\u001b[0m\u001b[1;33m(\u001b[0m\u001b[0mobj\u001b[0m\u001b[1;33m.\u001b[0m\u001b[0m__class__\u001b[0m\u001b[1;33m.\u001b[0m\u001b[0m__name__\u001b[0m\u001b[1;33m)\u001b[0m\u001b[1;33m\u001b[0m\u001b[1;33m\u001b[0m\u001b[0m\n\u001b[0;32m    139\u001b[0m                 \u001b[1;32mwith\u001b[0m \u001b[0mtorch\u001b[0m\u001b[1;33m.\u001b[0m\u001b[0mautograd\u001b[0m\u001b[1;33m.\u001b[0m\u001b[0mprofiler\u001b[0m\u001b[1;33m.\u001b[0m\u001b[0mrecord_function\u001b[0m\u001b[1;33m(\u001b[0m\u001b[0mprofile_name\u001b[0m\u001b[1;33m)\u001b[0m\u001b[1;33m:\u001b[0m\u001b[1;33m\u001b[0m\u001b[1;33m\u001b[0m\u001b[0m\n\u001b[1;32m--> 140\u001b[1;33m                     \u001b[0mout\u001b[0m \u001b[1;33m=\u001b[0m \u001b[0mfunc\u001b[0m\u001b[1;33m(\u001b[0m\u001b[1;33m*\u001b[0m\u001b[0margs\u001b[0m\u001b[1;33m,\u001b[0m \u001b[1;33m**\u001b[0m\u001b[0mkwargs\u001b[0m\u001b[1;33m)\u001b[0m\u001b[1;33m\u001b[0m\u001b[1;33m\u001b[0m\u001b[0m\n\u001b[0m\u001b[0;32m    141\u001b[0m                     \u001b[0mobj\u001b[0m\u001b[1;33m.\u001b[0m\u001b[0m_optimizer_step_code\u001b[0m\u001b[1;33m(\u001b[0m\u001b[1;33m)\u001b[0m\u001b[1;33m\u001b[0m\u001b[1;33m\u001b[0m\u001b[0m\n\u001b[0;32m    142\u001b[0m                     \u001b[1;32mreturn\u001b[0m \u001b[0mout\u001b[0m\u001b[1;33m\u001b[0m\u001b[1;33m\u001b[0m\u001b[0m\n",
      "\u001b[1;32mc:\\users\\david\\appdata\\local\\programs\\python\\python39\\lib\\site-packages\\transformers\\optimization.py\u001b[0m in \u001b[0;36mstep\u001b[1;34m(self, closure)\u001b[0m\n\u001b[0;32m    616\u001b[0m                     \u001b[0mp_data_fp32\u001b[0m\u001b[1;33m.\u001b[0m\u001b[0madd_\u001b[0m\u001b[1;33m(\u001b[0m\u001b[0mp_data_fp32\u001b[0m\u001b[1;33m,\u001b[0m \u001b[0malpha\u001b[0m\u001b[1;33m=\u001b[0m\u001b[1;33m(\u001b[0m\u001b[1;33m-\u001b[0m\u001b[0mgroup\u001b[0m\u001b[1;33m[\u001b[0m\u001b[1;34m\"weight_decay\"\u001b[0m\u001b[1;33m]\u001b[0m \u001b[1;33m*\u001b[0m \u001b[0mlr\u001b[0m\u001b[1;33m)\u001b[0m\u001b[1;33m)\u001b[0m\u001b[1;33m\u001b[0m\u001b[1;33m\u001b[0m\u001b[0m\n\u001b[0;32m    617\u001b[0m \u001b[1;33m\u001b[0m\u001b[0m\n\u001b[1;32m--> 618\u001b[1;33m                 \u001b[0mp_data_fp32\u001b[0m\u001b[1;33m.\u001b[0m\u001b[0madd_\u001b[0m\u001b[1;33m(\u001b[0m\u001b[1;33m-\u001b[0m\u001b[0mupdate\u001b[0m\u001b[1;33m)\u001b[0m\u001b[1;33m\u001b[0m\u001b[1;33m\u001b[0m\u001b[0m\n\u001b[0m\u001b[0;32m    619\u001b[0m \u001b[1;33m\u001b[0m\u001b[0m\n\u001b[0;32m    620\u001b[0m                 \u001b[1;32mif\u001b[0m \u001b[0mp\u001b[0m\u001b[1;33m.\u001b[0m\u001b[0mdata\u001b[0m\u001b[1;33m.\u001b[0m\u001b[0mdtype\u001b[0m \u001b[1;32min\u001b[0m \u001b[1;33m{\u001b[0m\u001b[0mtorch\u001b[0m\u001b[1;33m.\u001b[0m\u001b[0mfloat16\u001b[0m\u001b[1;33m,\u001b[0m \u001b[0mtorch\u001b[0m\u001b[1;33m.\u001b[0m\u001b[0mbfloat16\u001b[0m\u001b[1;33m}\u001b[0m\u001b[1;33m:\u001b[0m\u001b[1;33m\u001b[0m\u001b[1;33m\u001b[0m\u001b[0m\n",
      "\u001b[1;31mKeyboardInterrupt\u001b[0m: "
     ]
    }
   ],
   "source": [
    "model.train()\n",
    "\n",
    "for _ in trange(1000_000):\n",
    "    r = random.random()\n",
    "    if r < share_real:\n",
    "        batch = df_orig_train.sample(batch_size)\n",
    "        xx, yy = batch.trash2.tolist(), batch.clean2.tolist()\n",
    "    elif r < share_real + share_noiser:\n",
    "        yy = random.sample(cs2, batch_size)\n",
    "        xx = [noiser.add_noise(text, edit_rate=0.05) if random.random() > p_keep else text for text in yy]\n",
    "    else:\n",
    "        yy = random.sample(cs2, batch_size)\n",
    "        xx = [add_simple_noise(text, all_chars, edit_rate=0.05) if random.random() > p_keep else text for text in yy]\n",
    "\n",
    "    bx = tokenizer(xx, return_tensors='pt', padding=True, truncation=True)\n",
    "    \n",
    "    labels1 = bx.input_ids * 0 - 100\n",
    "    labels2 = bx.input_ids * 0 - 100\n",
    "\n",
    "    for i, (xxx, yyy) in enumerate(zip(xx, yy)):\n",
    "        src_chars, raw_labels = prl.parallelize(xxx, yyy)\n",
    "        id_labels1, id_labels2 = prl.labels_to_ids(raw_labels)\n",
    "        labels1[i, :len(id_labels1)] = torch.tensor(id_labels1[:labels1.shape[1]])\n",
    "        labels2[i, :len(id_labels2)] = torch.tensor(id_labels2[:labels1.shape[1]])\n",
    "    \n",
    "    n1, n2 =  len(prl.labels_this), len(prl.labels_next)\n",
    "    \n",
    "    try:\n",
    "        out = model(**bx.to(model.device))\n",
    "        loss1 = loss_fn(out.logits[:, :, :n1].view(-1, n1), labels1.to(model.device).view(-1))\n",
    "        loss2 = loss_fn(out.logits[:, :, n1:].view(-1, n2), labels2.to(model.device).view(-1))\n",
    "        loss = loss1 + loss2\n",
    "        loss.backward()\n",
    "        losses.append(loss.item())\n",
    "    \n",
    "        optimizer.step()\n",
    "        optimizer.zero_grad()\n",
    "    except RuntimeError as e:\n",
    "        optimizer.zero_grad(set_to_none=True)\n",
    "        out, loss, loss1, loss2 = None, None, None, None\n",
    "        cleanup()\n",
    "    \n",
    "    if _ % report_steps == 0:\n",
    "        print('step', _, 'loss', np.mean(losses[-report_steps:]))"
   ]
  },
  {
   "cell_type": "code",
   "execution_count": 953,
   "id": "3310d434",
   "metadata": {},
   "outputs": [
    {
     "data": {
      "text/plain": [
       "402487"
      ]
     },
     "execution_count": 953,
     "metadata": {},
     "output_type": "execute_result"
    }
   ],
   "source": [
    "len(losses)"
   ]
  },
  {
   "cell_type": "code",
   "execution_count": 954,
   "id": "16ba0d33",
   "metadata": {},
   "outputs": [],
   "source": [
    "optimizer.zero_grad(set_to_none=True)\n",
    "out, loss, loss1, loss2 = None, None, None, None\n",
    "cleanup()"
   ]
  },
  {
   "cell_type": "code",
   "execution_count": 955,
   "id": "89519ced",
   "metadata": {},
   "outputs": [
    {
     "data": {
      "image/png": "[encoded data removed]",
      "text/plain": [
       "<Figure size 432x288 with 1 Axes>"
      ]
     },
     "metadata": {
      "needs_background": "light"
     },
     "output_type": "display_data"
    }
   ],
   "source": [
    "pd.Series(losses).ewm(1000).mean()[1000:].plot();"
   ]
  },
  {
   "cell_type": "code",
   "execution_count": 943,
   "id": "3640720c",
   "metadata": {},
   "outputs": [
    {
     "data": {
      "application/vnd.jupyter.widget-view+json": {
       "model_id": "53d61218f6da49a9bbaf1ad23b23094c",
       "version_major": 2,
       "version_minor": 0
      },
      "text/plain": [
       "  0%|          | 0/5000 [00:00<?, ?it/s]"
      ]
     },
     "metadata": {},
     "output_type": "display_data"
    },
    {
     "name": "stdout",
     "output_type": "stream",
     "text": [
      "step 0 loss 0.11213997058360838\n",
      "step 1000 loss 0.0706805365961045\n",
      "step 2000 loss 0.07178925162740052\n",
      "step 3000 loss 0.05793624343490228\n",
      "step 4000 loss 0.06614953479799442\n"
     ]
    }
   ],
   "source": [
    "if len(losses) > 395000:\n",
    "    share_real = 0.3\n",
    "    share_noiser = 0.5\n",
    "    p_keep = 0.5\n",
    "\n",
    "    optimizer.param_groups[0]['lr'] = 1e-5 \n",
    "\n",
    "    \n",
    "model.train()\n",
    "\n",
    "for _ in trange(5000):\n",
    "    r = random.random()\n",
    "    if r < share_real:\n",
    "        batch = df_orig_train.sample(batch_size)\n",
    "        xx, yy = batch.trash2.tolist(), batch.clean2.tolist()\n",
    "    elif r < share_real + share_noiser:\n",
    "        yy = random.sample(cs2, batch_size)\n",
    "        xx = [noiser.add_noise(text, edit_rate=0.05) if random.random() > p_keep else text for text in yy]\n",
    "    else:\n",
    "        yy = random.sample(cs2, batch_size)\n",
    "        xx = [add_simple_noise(text, all_chars, edit_rate=0.05) if random.random() > p_keep else text for text in yy]\n",
    "\n",
    "    bx = tokenizer(xx, return_tensors='pt', padding=True, truncation=True)\n",
    "    \n",
    "    labels1 = bx.input_ids * 0 - 100\n",
    "    labels2 = bx.input_ids * 0 - 100\n",
    "\n",
    "    for i, (xxx, yyy) in enumerate(zip(xx, yy)):\n",
    "        src_chars, raw_labels = prl.parallelize(xxx, yyy)\n",
    "        id_labels1, id_labels2 = prl.labels_to_ids(raw_labels)\n",
    "        labels1[i, :len(id_labels1)] = torch.tensor(id_labels1[:labels1.shape[1]])\n",
    "        labels2[i, :len(id_labels2)] = torch.tensor(id_labels2[:labels1.shape[1]])\n",
    "    \n",
    "    n1, n2 =  len(prl.labels_this), len(prl.labels_next)\n",
    "    \n",
    "    try:\n",
    "        out = model(**bx.to(model.device))\n",
    "        loss1 = loss_fn(out.logits[:, :, :n1].view(-1, n1), labels1.to(model.device).view(-1))\n",
    "        loss2 = loss_fn(out.logits[:, :, n1:].view(-1, n2), labels2.to(model.device).view(-1))\n",
    "        loss = loss1 + loss2\n",
    "        loss.backward()\n",
    "        losses.append(loss.item())\n",
    "    \n",
    "        optimizer.step()\n",
    "        optimizer.zero_grad()\n",
    "    except RuntimeError as e:\n",
    "        optimizer.zero_grad(set_to_none=True)\n",
    "        out, loss, loss1, loss2 = None, None, None, None\n",
    "        cleanup()\n",
    "    \n",
    "    if _ % report_steps == 0:\n",
    "        print('step', _, 'loss', np.mean(losses[-report_steps:]))"
   ]
  },
  {
   "cell_type": "code",
   "execution_count": null,
   "id": "e78f98fa",
   "metadata": {},
   "outputs": [],
   "source": []
  },
  {
   "cell_type": "code",
   "execution_count": 944,
   "id": "24352c43",
   "metadata": {},
   "outputs": [
    {
     "data": {
      "application/vnd.jupyter.widget-view+json": {
       "model_id": "72dedb2ae9c54b19b836b8060564bdb0",
       "version_major": 2,
       "version_minor": 0
      },
      "text/plain": [
       "  0%|          | 0/100 [00:00<?, ?it/s]"
      ]
     },
     "metadata": {},
     "output_type": "display_data"
    },
    {
     "name": "stdout",
     "output_type": "stream",
     "text": [
      "reduction 0.4883720930232558\n"
     ]
    }
   ],
   "source": [
    "model.eval();\n",
    "dev_small['fixed'] = [fix_text(text) for text in tqdm(dev_small.trash2)]\n",
    "dev_small['change_amount'] = dev_small.apply(lambda row: textdistance.levenshtein.distance(row.trash2, row.fixed), axis=1)\n",
    "dev_small['new_diff'] = dev_small.apply(lambda row: textdistance.levenshtein.distance(row.clean2, row.fixed), axis=1)\n",
    "\n",
    "print('reduction', 1 - dev_small.new_diff.sum() / dev_small.distance.sum())"
   ]
  },
  {
   "cell_type": "code",
   "execution_count": 934,
   "id": "81eb4057",
   "metadata": {},
   "outputs": [
    {
     "name": "stdout",
     "output_type": "stream",
     "text": [
      "extra diff 0.17829457364341095\n"
     ]
    }
   ],
   "source": [
    "print('extra diff', (dev_small.new_diff.sum() +  dev_small.change_amount.sum()) / dev_small.distance.sum() -1)"
   ]
  },
  {
   "cell_type": "code",
   "execution_count": 935,
   "id": "c9750d4b",
   "metadata": {},
   "outputs": [
    {
     "data": {
      "text/plain": [
       "distance               1.2900\n",
       "normalized_distance    0.0175\n",
       "edit_max_cldiff        0.4600\n",
       "edit_max_lendiff       0.0300\n",
       "change_amount          0.8800\n",
       "new_diff               0.6400\n",
       "dtype: float64"
      ]
     },
     "execution_count": 935,
     "metadata": {},
     "output_type": "execute_result"
    }
   ],
   "source": [
    "dev_small.mean()"
   ]
  },
  {
   "cell_type": "code",
   "execution_count": 936,
   "id": "3495f325",
   "metadata": {},
   "outputs": [
    {
     "data": {
      "text/html": [
       "<div>\n",
       "<style scoped>\n",
       "    .dataframe tbody tr th:only-of-type {\n",
       "        vertical-align: middle;\n",
       "    }\n",
       "\n",
       "    .dataframe tbody tr th {\n",
       "        vertical-align: top;\n",
       "    }\n",
       "\n",
       "    .dataframe thead th {\n",
       "        text-align: right;\n",
       "    }\n",
       "</style>\n",
       "<table border=\"1\" class=\"dataframe\">\n",
       "  <thead>\n",
       "    <tr style=\"text-align: right;\">\n",
       "      <th></th>\n",
       "      <th>distance</th>\n",
       "      <th>normalized_distance</th>\n",
       "      <th>edit_max_cldiff</th>\n",
       "      <th>edit_max_lendiff</th>\n",
       "      <th>change_amount</th>\n",
       "      <th>new_diff</th>\n",
       "    </tr>\n",
       "  </thead>\n",
       "  <tbody>\n",
       "    <tr>\n",
       "      <th>count</th>\n",
       "      <td>100.000000</td>\n",
       "      <td>100.000000</td>\n",
       "      <td>100.000000</td>\n",
       "      <td>100.000000</td>\n",
       "      <td>100.000000</td>\n",
       "      <td>100.000000</td>\n",
       "    </tr>\n",
       "    <tr>\n",
       "      <th>mean</th>\n",
       "      <td>1.290000</td>\n",
       "      <td>0.017500</td>\n",
       "      <td>0.460000</td>\n",
       "      <td>0.030000</td>\n",
       "      <td>0.880000</td>\n",
       "      <td>0.640000</td>\n",
       "    </tr>\n",
       "    <tr>\n",
       "      <th>std</th>\n",
       "      <td>1.157278</td>\n",
       "      <td>0.015884</td>\n",
       "      <td>0.558135</td>\n",
       "      <td>0.171447</td>\n",
       "      <td>1.094338</td>\n",
       "      <td>0.882146</td>\n",
       "    </tr>\n",
       "    <tr>\n",
       "      <th>min</th>\n",
       "      <td>0.000000</td>\n",
       "      <td>0.000000</td>\n",
       "      <td>0.000000</td>\n",
       "      <td>0.000000</td>\n",
       "      <td>0.000000</td>\n",
       "      <td>0.000000</td>\n",
       "    </tr>\n",
       "    <tr>\n",
       "      <th>25%</th>\n",
       "      <td>1.000000</td>\n",
       "      <td>0.006332</td>\n",
       "      <td>0.000000</td>\n",
       "      <td>0.000000</td>\n",
       "      <td>0.000000</td>\n",
       "      <td>0.000000</td>\n",
       "    </tr>\n",
       "    <tr>\n",
       "      <th>50%</th>\n",
       "      <td>1.000000</td>\n",
       "      <td>0.013611</td>\n",
       "      <td>0.000000</td>\n",
       "      <td>0.000000</td>\n",
       "      <td>1.000000</td>\n",
       "      <td>0.000000</td>\n",
       "    </tr>\n",
       "    <tr>\n",
       "      <th>75%</th>\n",
       "      <td>2.000000</td>\n",
       "      <td>0.026316</td>\n",
       "      <td>1.000000</td>\n",
       "      <td>0.000000</td>\n",
       "      <td>1.000000</td>\n",
       "      <td>1.000000</td>\n",
       "    </tr>\n",
       "    <tr>\n",
       "      <th>max</th>\n",
       "      <td>6.000000</td>\n",
       "      <td>0.062500</td>\n",
       "      <td>2.000000</td>\n",
       "      <td>1.000000</td>\n",
       "      <td>6.000000</td>\n",
       "      <td>4.000000</td>\n",
       "    </tr>\n",
       "  </tbody>\n",
       "</table>\n",
       "</div>"
      ],
      "text/plain": [
       "         distance  normalized_distance  edit_max_cldiff  edit_max_lendiff  \\\n",
       "count  100.000000           100.000000       100.000000        100.000000   \n",
       "mean     1.290000             0.017500         0.460000          0.030000   \n",
       "std      1.157278             0.015884         0.558135          0.171447   \n",
       "min      0.000000             0.000000         0.000000          0.000000   \n",
       "25%      1.000000             0.006332         0.000000          0.000000   \n",
       "50%      1.000000             0.013611         0.000000          0.000000   \n",
       "75%      2.000000             0.026316         1.000000          0.000000   \n",
       "max      6.000000             0.062500         2.000000          1.000000   \n",
       "\n",
       "       change_amount    new_diff  \n",
       "count     100.000000  100.000000  \n",
       "mean        0.880000    0.640000  \n",
       "std         1.094338    0.882146  \n",
       "min         0.000000    0.000000  \n",
       "25%         0.000000    0.000000  \n",
       "50%         1.000000    0.000000  \n",
       "75%         1.000000    1.000000  \n",
       "max         6.000000    4.000000  "
      ]
     },
     "execution_count": 936,
     "metadata": {},
     "output_type": "execute_result"
    }
   ],
   "source": [
    "dev_small.describe()"
   ]
  },
  {
   "cell_type": "code",
   "execution_count": 938,
   "id": "0ed241d5",
   "metadata": {},
   "outputs": [],
   "source": [
    "full_labels = ['THIS_' + t for t in prl.labels_this] + ['NEXT_' + t for t in prl.labels_next]\n",
    "model.config.label2id = {k: i for i, k in enumerate(full_labels)}\n",
    "model.config.id2label = {i:k for i, k in enumerate(full_labels)}"
   ]
  },
  {
   "cell_type": "markdown",
   "id": "77819d21",
   "metadata": {},
   "source": [
    "* After 160000 steps, I saved the model; it achieved 0.5116 reduction. But it turned out that in self-supervised texts, I erroneously swapped x and y, so I had to redo the whole process. "
   ]
  },
  {
   "cell_type": "code",
   "execution_count": 939,
   "id": "528f4565",
   "metadata": {},
   "outputs": [
    {
     "name": "stderr",
     "output_type": "stream",
     "text": [
      "Configuration saved in ../models/canine-c-bak-semisupervised-v1-1\\config.json\n",
      "Model weights saved in ../models/canine-c-bak-semisupervised-v1-1\\pytorch_model.bin\n",
      "tokenizer config file saved in ../models/canine-c-bak-semisupervised-v1-1\\tokenizer_config.json\n",
      "Special tokens file saved in ../models/canine-c-bak-semisupervised-v1-1\\special_tokens_map.json\n"
     ]
    },
    {
     "data": {
      "text/plain": [
       "('../models/canine-c-bak-semisupervised-v1-1\\\\tokenizer_config.json',\n",
       " '../models/canine-c-bak-semisupervised-v1-1\\\\special_tokens_map.json',\n",
       " '../models/canine-c-bak-semisupervised-v1-1\\\\added_tokens.json')"
      ]
     },
     "execution_count": 939,
     "metadata": {},
     "output_type": "execute_result"
    }
   ],
   "source": [
    "# new_model_name = '../models/canine-c-bak-semisupervised' # 160000\n",
    "new_model_name = '../models/canine-c-bak-semisupervised-v1-1' # 397477\n",
    "model.save_pretrained(new_model_name)\n",
    "tokenizer.save_pretrained(new_model_name)"
   ]
  }
 ],
 "metadata": {
  "kernelspec": {
   "display_name": "Python 3 (ipykernel)",
   "language": "python",
   "name": "python3"
  },
  "language_info": {
   "codemirror_mode": {
    "name": "ipython",
    "version": 3
   },
   "file_extension": ".py",
   "mimetype": "text/x-python",
   "name": "python",
   "nbconvert_exporter": "python",
   "pygments_lexer": "ipython3",
   "version": "3.9.6"
  }
 },
 "nbformat": 4,
 "nbformat_minor": 5
}
